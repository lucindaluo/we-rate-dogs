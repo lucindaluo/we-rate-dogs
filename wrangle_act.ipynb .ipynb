{
 "cells": [
  {
   "cell_type": "code",
   "execution_count": 62,
   "metadata": {},
   "outputs": [],
   "source": [
    "#导入使用的模块\n",
    "import pandas as pd\n",
    "import numpy as np\n",
    "import requests\n",
    "import os\n",
    "import tweepy\n",
    "import time\n",
    "import csv\n",
    "import json\n",
    "import re\n",
    "import itertools\n",
    "import matplotlib.pyplot as plt\n",
    "import seaborn as sns\n",
    "%matplotlib inline"
   ]
  },
  {
   "cell_type": "code",
   "execution_count": 63,
   "metadata": {},
   "outputs": [],
   "source": [
    "#导入twitter-archive-enhanced.csv文件\n",
    "df = pd.read_csv(\"twitter-archive-enhanced.csv\")"
   ]
  },
  {
   "cell_type": "code",
   "execution_count": 64,
   "metadata": {},
   "outputs": [
    {
     "data": {
      "text/plain": [
       "['image-predictions.tsv']"
      ]
     },
     "execution_count": 64,
     "metadata": {},
     "output_type": "execute_result"
    }
   ],
   "source": [
    "#从网站下载数据：\n",
    "url = 'https://raw.githubusercontent.com/udacity/new-dand-advanced-china/master/%E6%95%B0%E6%8D%AE%E6%B8%85%E6%B4%97/WeRateDogs%E9%A1%B9%E7%9B%AE/image-predictions.tsv'\n",
    "response = requests.get(url)\n",
    "\n",
    "folder_name = 'image-predictions'\n",
    "if not os.path.exists(folder_name):\n",
    "    os.makedirs(folder_name)\n",
    "    \n",
    "with open(os.path.join(folder_name, url.split('/')[-1]), mode='wb') as file:\n",
    "    file.write(response.content)\n",
    "    \n",
    "os.listdir(folder_name)"
   ]
  },
  {
   "cell_type": "code",
   "execution_count": 65,
   "metadata": {},
   "outputs": [],
   "source": [
    "img_predictions_df = pd.read_csv(folder_name + '/image-predictions.tsv',sep='\\t')"
   ]
  },
  {
   "cell_type": "markdown",
   "metadata": {},
   "source": [
    "#国内无法使用tweepy，使用tweet_json.txt数据(提取出id、转发数retweet_count，喜爱数favorite_count)"
   ]
  },
  {
   "cell_type": "code",
   "execution_count": 66,
   "metadata": {},
   "outputs": [],
   "source": [
    "#　建立dirt字典，收集id，retweet_count和favorite_count\n",
    "dirt = {'id':[],'favorite_count':[],'retweet_count':[]}\n",
    "# 打开json形式储存的txt格式文件，并创建json_file文件对象\n",
    "with open('tweet_json.txt', 'r') as json_file:\n",
    "    # 读取file文件对象，然后遍历每一行信息\n",
    "    for line in json_file.readlines():\n",
    "        # json.loads将str格式转为dic格式\n",
    "        data = json.loads(line)\n",
    "        # 通过字典方法读取id，retweet_count和favorite_count信息，并存入dirt字典中\n",
    "        dirt['id'].append(data['id'])\n",
    "        dirt['favorite_count'].append(data['favorite_count'])\n",
    "        dirt['retweet_count'].append(data['retweet_count'])"
   ]
  },
  {
   "cell_type": "code",
   "execution_count": 67,
   "metadata": {},
   "outputs": [],
   "source": [
    "appendix = pd.DataFrame(dirt, columns=['id','favorite_count','retweet_count'])"
   ]
  },
  {
   "cell_type": "markdown",
   "metadata": {},
   "source": [
    "### 评估数据"
   ]
  },
  {
   "cell_type": "markdown",
   "metadata": {},
   "source": [
    "#### 1.查看数据"
   ]
  },
  {
   "cell_type": "code",
   "execution_count": 68,
   "metadata": {},
   "outputs": [
    {
     "data": {
      "text/html": [
       "<div>\n",
       "<style>\n",
       "    .dataframe thead tr:only-child th {\n",
       "        text-align: right;\n",
       "    }\n",
       "\n",
       "    .dataframe thead th {\n",
       "        text-align: left;\n",
       "    }\n",
       "\n",
       "    .dataframe tbody tr th {\n",
       "        vertical-align: top;\n",
       "    }\n",
       "</style>\n",
       "<table border=\"1\" class=\"dataframe\">\n",
       "  <thead>\n",
       "    <tr style=\"text-align: right;\">\n",
       "      <th></th>\n",
       "      <th>tweet_id</th>\n",
       "      <th>in_reply_to_status_id</th>\n",
       "      <th>in_reply_to_user_id</th>\n",
       "      <th>timestamp</th>\n",
       "      <th>source</th>\n",
       "      <th>text</th>\n",
       "      <th>retweeted_status_id</th>\n",
       "      <th>retweeted_status_user_id</th>\n",
       "      <th>retweeted_status_timestamp</th>\n",
       "      <th>expanded_urls</th>\n",
       "      <th>rating_numerator</th>\n",
       "      <th>rating_denominator</th>\n",
       "      <th>name</th>\n",
       "      <th>doggo</th>\n",
       "      <th>floofer</th>\n",
       "      <th>pupper</th>\n",
       "      <th>puppo</th>\n",
       "    </tr>\n",
       "  </thead>\n",
       "  <tbody>\n",
       "    <tr>\n",
       "      <th>0</th>\n",
       "      <td>892420643555336193</td>\n",
       "      <td>NaN</td>\n",
       "      <td>NaN</td>\n",
       "      <td>2017-08-01 16:23:56 +0000</td>\n",
       "      <td>&lt;a href=\"http://twitter.com/download/iphone\" r...</td>\n",
       "      <td>This is Phineas. He's a mystical boy. Only eve...</td>\n",
       "      <td>NaN</td>\n",
       "      <td>NaN</td>\n",
       "      <td>NaN</td>\n",
       "      <td>https://twitter.com/dog_rates/status/892420643...</td>\n",
       "      <td>13</td>\n",
       "      <td>10</td>\n",
       "      <td>Phineas</td>\n",
       "      <td>None</td>\n",
       "      <td>None</td>\n",
       "      <td>None</td>\n",
       "      <td>None</td>\n",
       "    </tr>\n",
       "    <tr>\n",
       "      <th>1</th>\n",
       "      <td>892177421306343426</td>\n",
       "      <td>NaN</td>\n",
       "      <td>NaN</td>\n",
       "      <td>2017-08-01 00:17:27 +0000</td>\n",
       "      <td>&lt;a href=\"http://twitter.com/download/iphone\" r...</td>\n",
       "      <td>This is Tilly. She's just checking pup on you....</td>\n",
       "      <td>NaN</td>\n",
       "      <td>NaN</td>\n",
       "      <td>NaN</td>\n",
       "      <td>https://twitter.com/dog_rates/status/892177421...</td>\n",
       "      <td>13</td>\n",
       "      <td>10</td>\n",
       "      <td>Tilly</td>\n",
       "      <td>None</td>\n",
       "      <td>None</td>\n",
       "      <td>None</td>\n",
       "      <td>None</td>\n",
       "    </tr>\n",
       "    <tr>\n",
       "      <th>2</th>\n",
       "      <td>891815181378084864</td>\n",
       "      <td>NaN</td>\n",
       "      <td>NaN</td>\n",
       "      <td>2017-07-31 00:18:03 +0000</td>\n",
       "      <td>&lt;a href=\"http://twitter.com/download/iphone\" r...</td>\n",
       "      <td>This is Archie. He is a rare Norwegian Pouncin...</td>\n",
       "      <td>NaN</td>\n",
       "      <td>NaN</td>\n",
       "      <td>NaN</td>\n",
       "      <td>https://twitter.com/dog_rates/status/891815181...</td>\n",
       "      <td>12</td>\n",
       "      <td>10</td>\n",
       "      <td>Archie</td>\n",
       "      <td>None</td>\n",
       "      <td>None</td>\n",
       "      <td>None</td>\n",
       "      <td>None</td>\n",
       "    </tr>\n",
       "    <tr>\n",
       "      <th>3</th>\n",
       "      <td>891689557279858688</td>\n",
       "      <td>NaN</td>\n",
       "      <td>NaN</td>\n",
       "      <td>2017-07-30 15:58:51 +0000</td>\n",
       "      <td>&lt;a href=\"http://twitter.com/download/iphone\" r...</td>\n",
       "      <td>This is Darla. She commenced a snooze mid meal...</td>\n",
       "      <td>NaN</td>\n",
       "      <td>NaN</td>\n",
       "      <td>NaN</td>\n",
       "      <td>https://twitter.com/dog_rates/status/891689557...</td>\n",
       "      <td>13</td>\n",
       "      <td>10</td>\n",
       "      <td>Darla</td>\n",
       "      <td>None</td>\n",
       "      <td>None</td>\n",
       "      <td>None</td>\n",
       "      <td>None</td>\n",
       "    </tr>\n",
       "    <tr>\n",
       "      <th>4</th>\n",
       "      <td>891327558926688256</td>\n",
       "      <td>NaN</td>\n",
       "      <td>NaN</td>\n",
       "      <td>2017-07-29 16:00:24 +0000</td>\n",
       "      <td>&lt;a href=\"http://twitter.com/download/iphone\" r...</td>\n",
       "      <td>This is Franklin. He would like you to stop ca...</td>\n",
       "      <td>NaN</td>\n",
       "      <td>NaN</td>\n",
       "      <td>NaN</td>\n",
       "      <td>https://twitter.com/dog_rates/status/891327558...</td>\n",
       "      <td>12</td>\n",
       "      <td>10</td>\n",
       "      <td>Franklin</td>\n",
       "      <td>None</td>\n",
       "      <td>None</td>\n",
       "      <td>None</td>\n",
       "      <td>None</td>\n",
       "    </tr>\n",
       "  </tbody>\n",
       "</table>\n",
       "</div>"
      ],
      "text/plain": [
       "             tweet_id  in_reply_to_status_id  in_reply_to_user_id  \\\n",
       "0  892420643555336193                    NaN                  NaN   \n",
       "1  892177421306343426                    NaN                  NaN   \n",
       "2  891815181378084864                    NaN                  NaN   \n",
       "3  891689557279858688                    NaN                  NaN   \n",
       "4  891327558926688256                    NaN                  NaN   \n",
       "\n",
       "                   timestamp  \\\n",
       "0  2017-08-01 16:23:56 +0000   \n",
       "1  2017-08-01 00:17:27 +0000   \n",
       "2  2017-07-31 00:18:03 +0000   \n",
       "3  2017-07-30 15:58:51 +0000   \n",
       "4  2017-07-29 16:00:24 +0000   \n",
       "\n",
       "                                              source  \\\n",
       "0  <a href=\"http://twitter.com/download/iphone\" r...   \n",
       "1  <a href=\"http://twitter.com/download/iphone\" r...   \n",
       "2  <a href=\"http://twitter.com/download/iphone\" r...   \n",
       "3  <a href=\"http://twitter.com/download/iphone\" r...   \n",
       "4  <a href=\"http://twitter.com/download/iphone\" r...   \n",
       "\n",
       "                                                text  retweeted_status_id  \\\n",
       "0  This is Phineas. He's a mystical boy. Only eve...                  NaN   \n",
       "1  This is Tilly. She's just checking pup on you....                  NaN   \n",
       "2  This is Archie. He is a rare Norwegian Pouncin...                  NaN   \n",
       "3  This is Darla. She commenced a snooze mid meal...                  NaN   \n",
       "4  This is Franklin. He would like you to stop ca...                  NaN   \n",
       "\n",
       "   retweeted_status_user_id retweeted_status_timestamp  \\\n",
       "0                       NaN                        NaN   \n",
       "1                       NaN                        NaN   \n",
       "2                       NaN                        NaN   \n",
       "3                       NaN                        NaN   \n",
       "4                       NaN                        NaN   \n",
       "\n",
       "                                       expanded_urls  rating_numerator  \\\n",
       "0  https://twitter.com/dog_rates/status/892420643...                13   \n",
       "1  https://twitter.com/dog_rates/status/892177421...                13   \n",
       "2  https://twitter.com/dog_rates/status/891815181...                12   \n",
       "3  https://twitter.com/dog_rates/status/891689557...                13   \n",
       "4  https://twitter.com/dog_rates/status/891327558...                12   \n",
       "\n",
       "   rating_denominator      name doggo floofer pupper puppo  \n",
       "0                  10   Phineas  None    None   None  None  \n",
       "1                  10     Tilly  None    None   None  None  \n",
       "2                  10    Archie  None    None   None  None  \n",
       "3                  10     Darla  None    None   None  None  \n",
       "4                  10  Franklin  None    None   None  None  "
      ]
     },
     "execution_count": 68,
     "metadata": {},
     "output_type": "execute_result"
    }
   ],
   "source": [
    "#查看twitter-archive-enhanced.csv文件\n",
    "df.head()"
   ]
  },
  {
   "cell_type": "code",
   "execution_count": 69,
   "metadata": {},
   "outputs": [
    {
     "data": {
      "text/html": [
       "<div>\n",
       "<style>\n",
       "    .dataframe thead tr:only-child th {\n",
       "        text-align: right;\n",
       "    }\n",
       "\n",
       "    .dataframe thead th {\n",
       "        text-align: left;\n",
       "    }\n",
       "\n",
       "    .dataframe tbody tr th {\n",
       "        vertical-align: top;\n",
       "    }\n",
       "</style>\n",
       "<table border=\"1\" class=\"dataframe\">\n",
       "  <thead>\n",
       "    <tr style=\"text-align: right;\">\n",
       "      <th></th>\n",
       "      <th>tweet_id</th>\n",
       "      <th>in_reply_to_status_id</th>\n",
       "      <th>in_reply_to_user_id</th>\n",
       "      <th>timestamp</th>\n",
       "      <th>source</th>\n",
       "      <th>text</th>\n",
       "      <th>retweeted_status_id</th>\n",
       "      <th>retweeted_status_user_id</th>\n",
       "      <th>retweeted_status_timestamp</th>\n",
       "      <th>expanded_urls</th>\n",
       "      <th>rating_numerator</th>\n",
       "      <th>rating_denominator</th>\n",
       "      <th>name</th>\n",
       "      <th>doggo</th>\n",
       "      <th>floofer</th>\n",
       "      <th>pupper</th>\n",
       "      <th>puppo</th>\n",
       "    </tr>\n",
       "  </thead>\n",
       "  <tbody>\n",
       "    <tr>\n",
       "      <th>2351</th>\n",
       "      <td>666049248165822465</td>\n",
       "      <td>NaN</td>\n",
       "      <td>NaN</td>\n",
       "      <td>2015-11-16 00:24:50 +0000</td>\n",
       "      <td>&lt;a href=\"http://twitter.com/download/iphone\" r...</td>\n",
       "      <td>Here we have a 1949 1st generation vulpix. Enj...</td>\n",
       "      <td>NaN</td>\n",
       "      <td>NaN</td>\n",
       "      <td>NaN</td>\n",
       "      <td>https://twitter.com/dog_rates/status/666049248...</td>\n",
       "      <td>5</td>\n",
       "      <td>10</td>\n",
       "      <td>None</td>\n",
       "      <td>None</td>\n",
       "      <td>None</td>\n",
       "      <td>None</td>\n",
       "      <td>None</td>\n",
       "    </tr>\n",
       "    <tr>\n",
       "      <th>2352</th>\n",
       "      <td>666044226329800704</td>\n",
       "      <td>NaN</td>\n",
       "      <td>NaN</td>\n",
       "      <td>2015-11-16 00:04:52 +0000</td>\n",
       "      <td>&lt;a href=\"http://twitter.com/download/iphone\" r...</td>\n",
       "      <td>This is a purebred Piers Morgan. Loves to Netf...</td>\n",
       "      <td>NaN</td>\n",
       "      <td>NaN</td>\n",
       "      <td>NaN</td>\n",
       "      <td>https://twitter.com/dog_rates/status/666044226...</td>\n",
       "      <td>6</td>\n",
       "      <td>10</td>\n",
       "      <td>a</td>\n",
       "      <td>None</td>\n",
       "      <td>None</td>\n",
       "      <td>None</td>\n",
       "      <td>None</td>\n",
       "    </tr>\n",
       "    <tr>\n",
       "      <th>2353</th>\n",
       "      <td>666033412701032449</td>\n",
       "      <td>NaN</td>\n",
       "      <td>NaN</td>\n",
       "      <td>2015-11-15 23:21:54 +0000</td>\n",
       "      <td>&lt;a href=\"http://twitter.com/download/iphone\" r...</td>\n",
       "      <td>Here is a very happy pup. Big fan of well-main...</td>\n",
       "      <td>NaN</td>\n",
       "      <td>NaN</td>\n",
       "      <td>NaN</td>\n",
       "      <td>https://twitter.com/dog_rates/status/666033412...</td>\n",
       "      <td>9</td>\n",
       "      <td>10</td>\n",
       "      <td>a</td>\n",
       "      <td>None</td>\n",
       "      <td>None</td>\n",
       "      <td>None</td>\n",
       "      <td>None</td>\n",
       "    </tr>\n",
       "    <tr>\n",
       "      <th>2354</th>\n",
       "      <td>666029285002620928</td>\n",
       "      <td>NaN</td>\n",
       "      <td>NaN</td>\n",
       "      <td>2015-11-15 23:05:30 +0000</td>\n",
       "      <td>&lt;a href=\"http://twitter.com/download/iphone\" r...</td>\n",
       "      <td>This is a western brown Mitsubishi terrier. Up...</td>\n",
       "      <td>NaN</td>\n",
       "      <td>NaN</td>\n",
       "      <td>NaN</td>\n",
       "      <td>https://twitter.com/dog_rates/status/666029285...</td>\n",
       "      <td>7</td>\n",
       "      <td>10</td>\n",
       "      <td>a</td>\n",
       "      <td>None</td>\n",
       "      <td>None</td>\n",
       "      <td>None</td>\n",
       "      <td>None</td>\n",
       "    </tr>\n",
       "    <tr>\n",
       "      <th>2355</th>\n",
       "      <td>666020888022790149</td>\n",
       "      <td>NaN</td>\n",
       "      <td>NaN</td>\n",
       "      <td>2015-11-15 22:32:08 +0000</td>\n",
       "      <td>&lt;a href=\"http://twitter.com/download/iphone\" r...</td>\n",
       "      <td>Here we have a Japanese Irish Setter. Lost eye...</td>\n",
       "      <td>NaN</td>\n",
       "      <td>NaN</td>\n",
       "      <td>NaN</td>\n",
       "      <td>https://twitter.com/dog_rates/status/666020888...</td>\n",
       "      <td>8</td>\n",
       "      <td>10</td>\n",
       "      <td>None</td>\n",
       "      <td>None</td>\n",
       "      <td>None</td>\n",
       "      <td>None</td>\n",
       "      <td>None</td>\n",
       "    </tr>\n",
       "  </tbody>\n",
       "</table>\n",
       "</div>"
      ],
      "text/plain": [
       "                tweet_id  in_reply_to_status_id  in_reply_to_user_id  \\\n",
       "2351  666049248165822465                    NaN                  NaN   \n",
       "2352  666044226329800704                    NaN                  NaN   \n",
       "2353  666033412701032449                    NaN                  NaN   \n",
       "2354  666029285002620928                    NaN                  NaN   \n",
       "2355  666020888022790149                    NaN                  NaN   \n",
       "\n",
       "                      timestamp  \\\n",
       "2351  2015-11-16 00:24:50 +0000   \n",
       "2352  2015-11-16 00:04:52 +0000   \n",
       "2353  2015-11-15 23:21:54 +0000   \n",
       "2354  2015-11-15 23:05:30 +0000   \n",
       "2355  2015-11-15 22:32:08 +0000   \n",
       "\n",
       "                                                 source  \\\n",
       "2351  <a href=\"http://twitter.com/download/iphone\" r...   \n",
       "2352  <a href=\"http://twitter.com/download/iphone\" r...   \n",
       "2353  <a href=\"http://twitter.com/download/iphone\" r...   \n",
       "2354  <a href=\"http://twitter.com/download/iphone\" r...   \n",
       "2355  <a href=\"http://twitter.com/download/iphone\" r...   \n",
       "\n",
       "                                                   text  retweeted_status_id  \\\n",
       "2351  Here we have a 1949 1st generation vulpix. Enj...                  NaN   \n",
       "2352  This is a purebred Piers Morgan. Loves to Netf...                  NaN   \n",
       "2353  Here is a very happy pup. Big fan of well-main...                  NaN   \n",
       "2354  This is a western brown Mitsubishi terrier. Up...                  NaN   \n",
       "2355  Here we have a Japanese Irish Setter. Lost eye...                  NaN   \n",
       "\n",
       "      retweeted_status_user_id retweeted_status_timestamp  \\\n",
       "2351                       NaN                        NaN   \n",
       "2352                       NaN                        NaN   \n",
       "2353                       NaN                        NaN   \n",
       "2354                       NaN                        NaN   \n",
       "2355                       NaN                        NaN   \n",
       "\n",
       "                                          expanded_urls  rating_numerator  \\\n",
       "2351  https://twitter.com/dog_rates/status/666049248...                 5   \n",
       "2352  https://twitter.com/dog_rates/status/666044226...                 6   \n",
       "2353  https://twitter.com/dog_rates/status/666033412...                 9   \n",
       "2354  https://twitter.com/dog_rates/status/666029285...                 7   \n",
       "2355  https://twitter.com/dog_rates/status/666020888...                 8   \n",
       "\n",
       "      rating_denominator  name doggo floofer pupper puppo  \n",
       "2351                  10  None  None    None   None  None  \n",
       "2352                  10     a  None    None   None  None  \n",
       "2353                  10     a  None    None   None  None  \n",
       "2354                  10     a  None    None   None  None  \n",
       "2355                  10  None  None    None   None  None  "
      ]
     },
     "execution_count": 69,
     "metadata": {},
     "output_type": "execute_result"
    }
   ],
   "source": [
    "df.tail()"
   ]
  },
  {
   "cell_type": "code",
   "execution_count": 70,
   "metadata": {},
   "outputs": [
    {
     "name": "stdout",
     "output_type": "stream",
     "text": [
      "<class 'pandas.core.frame.DataFrame'>\n",
      "RangeIndex: 2356 entries, 0 to 2355\n",
      "Data columns (total 17 columns):\n",
      "tweet_id                      2356 non-null int64\n",
      "in_reply_to_status_id         78 non-null float64\n",
      "in_reply_to_user_id           78 non-null float64\n",
      "timestamp                     2356 non-null object\n",
      "source                        2356 non-null object\n",
      "text                          2356 non-null object\n",
      "retweeted_status_id           181 non-null float64\n",
      "retweeted_status_user_id      181 non-null float64\n",
      "retweeted_status_timestamp    181 non-null object\n",
      "expanded_urls                 2297 non-null object\n",
      "rating_numerator              2356 non-null int64\n",
      "rating_denominator            2356 non-null int64\n",
      "name                          2356 non-null object\n",
      "doggo                         2356 non-null object\n",
      "floofer                       2356 non-null object\n",
      "pupper                        2356 non-null object\n",
      "puppo                         2356 non-null object\n",
      "dtypes: float64(4), int64(3), object(10)\n",
      "memory usage: 313.0+ KB\n"
     ]
    }
   ],
   "source": [
    "df.info()"
   ]
  },
  {
   "cell_type": "code",
   "execution_count": 71,
   "metadata": {},
   "outputs": [
    {
     "data": {
      "text/plain": [
       "0"
      ]
     },
     "execution_count": 71,
     "metadata": {},
     "output_type": "execute_result"
    }
   ],
   "source": [
    "sum(df.duplicated())"
   ]
  },
  {
   "cell_type": "code",
   "execution_count": 72,
   "metadata": {},
   "outputs": [
    {
     "data": {
      "text/html": [
       "<div>\n",
       "<style>\n",
       "    .dataframe thead tr:only-child th {\n",
       "        text-align: right;\n",
       "    }\n",
       "\n",
       "    .dataframe thead th {\n",
       "        text-align: left;\n",
       "    }\n",
       "\n",
       "    .dataframe tbody tr th {\n",
       "        vertical-align: top;\n",
       "    }\n",
       "</style>\n",
       "<table border=\"1\" class=\"dataframe\">\n",
       "  <thead>\n",
       "    <tr style=\"text-align: right;\">\n",
       "      <th></th>\n",
       "      <th>tweet_id</th>\n",
       "      <th>in_reply_to_status_id</th>\n",
       "      <th>in_reply_to_user_id</th>\n",
       "      <th>retweeted_status_id</th>\n",
       "      <th>retweeted_status_user_id</th>\n",
       "      <th>rating_numerator</th>\n",
       "      <th>rating_denominator</th>\n",
       "    </tr>\n",
       "  </thead>\n",
       "  <tbody>\n",
       "    <tr>\n",
       "      <th>count</th>\n",
       "      <td>2.356000e+03</td>\n",
       "      <td>7.800000e+01</td>\n",
       "      <td>7.800000e+01</td>\n",
       "      <td>1.810000e+02</td>\n",
       "      <td>1.810000e+02</td>\n",
       "      <td>2356.000000</td>\n",
       "      <td>2356.000000</td>\n",
       "    </tr>\n",
       "    <tr>\n",
       "      <th>mean</th>\n",
       "      <td>7.427716e+17</td>\n",
       "      <td>7.455079e+17</td>\n",
       "      <td>2.014171e+16</td>\n",
       "      <td>7.720400e+17</td>\n",
       "      <td>1.241698e+16</td>\n",
       "      <td>13.126486</td>\n",
       "      <td>10.455433</td>\n",
       "    </tr>\n",
       "    <tr>\n",
       "      <th>std</th>\n",
       "      <td>6.856705e+16</td>\n",
       "      <td>7.582492e+16</td>\n",
       "      <td>1.252797e+17</td>\n",
       "      <td>6.236928e+16</td>\n",
       "      <td>9.599254e+16</td>\n",
       "      <td>45.876648</td>\n",
       "      <td>6.745237</td>\n",
       "    </tr>\n",
       "    <tr>\n",
       "      <th>min</th>\n",
       "      <td>6.660209e+17</td>\n",
       "      <td>6.658147e+17</td>\n",
       "      <td>1.185634e+07</td>\n",
       "      <td>6.661041e+17</td>\n",
       "      <td>7.832140e+05</td>\n",
       "      <td>0.000000</td>\n",
       "      <td>0.000000</td>\n",
       "    </tr>\n",
       "    <tr>\n",
       "      <th>25%</th>\n",
       "      <td>6.783989e+17</td>\n",
       "      <td>6.757419e+17</td>\n",
       "      <td>3.086374e+08</td>\n",
       "      <td>7.186315e+17</td>\n",
       "      <td>4.196984e+09</td>\n",
       "      <td>10.000000</td>\n",
       "      <td>10.000000</td>\n",
       "    </tr>\n",
       "    <tr>\n",
       "      <th>50%</th>\n",
       "      <td>7.196279e+17</td>\n",
       "      <td>7.038708e+17</td>\n",
       "      <td>4.196984e+09</td>\n",
       "      <td>7.804657e+17</td>\n",
       "      <td>4.196984e+09</td>\n",
       "      <td>11.000000</td>\n",
       "      <td>10.000000</td>\n",
       "    </tr>\n",
       "    <tr>\n",
       "      <th>75%</th>\n",
       "      <td>7.993373e+17</td>\n",
       "      <td>8.257804e+17</td>\n",
       "      <td>4.196984e+09</td>\n",
       "      <td>8.203146e+17</td>\n",
       "      <td>4.196984e+09</td>\n",
       "      <td>12.000000</td>\n",
       "      <td>10.000000</td>\n",
       "    </tr>\n",
       "    <tr>\n",
       "      <th>max</th>\n",
       "      <td>8.924206e+17</td>\n",
       "      <td>8.862664e+17</td>\n",
       "      <td>8.405479e+17</td>\n",
       "      <td>8.874740e+17</td>\n",
       "      <td>7.874618e+17</td>\n",
       "      <td>1776.000000</td>\n",
       "      <td>170.000000</td>\n",
       "    </tr>\n",
       "  </tbody>\n",
       "</table>\n",
       "</div>"
      ],
      "text/plain": [
       "           tweet_id  in_reply_to_status_id  in_reply_to_user_id  \\\n",
       "count  2.356000e+03           7.800000e+01         7.800000e+01   \n",
       "mean   7.427716e+17           7.455079e+17         2.014171e+16   \n",
       "std    6.856705e+16           7.582492e+16         1.252797e+17   \n",
       "min    6.660209e+17           6.658147e+17         1.185634e+07   \n",
       "25%    6.783989e+17           6.757419e+17         3.086374e+08   \n",
       "50%    7.196279e+17           7.038708e+17         4.196984e+09   \n",
       "75%    7.993373e+17           8.257804e+17         4.196984e+09   \n",
       "max    8.924206e+17           8.862664e+17         8.405479e+17   \n",
       "\n",
       "       retweeted_status_id  retweeted_status_user_id  rating_numerator  \\\n",
       "count         1.810000e+02              1.810000e+02       2356.000000   \n",
       "mean          7.720400e+17              1.241698e+16         13.126486   \n",
       "std           6.236928e+16              9.599254e+16         45.876648   \n",
       "min           6.661041e+17              7.832140e+05          0.000000   \n",
       "25%           7.186315e+17              4.196984e+09         10.000000   \n",
       "50%           7.804657e+17              4.196984e+09         11.000000   \n",
       "75%           8.203146e+17              4.196984e+09         12.000000   \n",
       "max           8.874740e+17              7.874618e+17       1776.000000   \n",
       "\n",
       "       rating_denominator  \n",
       "count         2356.000000  \n",
       "mean            10.455433  \n",
       "std              6.745237  \n",
       "min              0.000000  \n",
       "25%             10.000000  \n",
       "50%             10.000000  \n",
       "75%             10.000000  \n",
       "max            170.000000  "
      ]
     },
     "execution_count": 72,
     "metadata": {},
     "output_type": "execute_result"
    }
   ],
   "source": [
    "df.describe()"
   ]
  },
  {
   "cell_type": "code",
   "execution_count": 73,
   "metadata": {},
   "outputs": [
    {
     "data": {
      "text/html": [
       "<div>\n",
       "<style>\n",
       "    .dataframe thead tr:only-child th {\n",
       "        text-align: right;\n",
       "    }\n",
       "\n",
       "    .dataframe thead th {\n",
       "        text-align: left;\n",
       "    }\n",
       "\n",
       "    .dataframe tbody tr th {\n",
       "        vertical-align: top;\n",
       "    }\n",
       "</style>\n",
       "<table border=\"1\" class=\"dataframe\">\n",
       "  <thead>\n",
       "    <tr style=\"text-align: right;\">\n",
       "      <th></th>\n",
       "      <th>tweet_id</th>\n",
       "      <th>jpg_url</th>\n",
       "      <th>img_num</th>\n",
       "      <th>p1</th>\n",
       "      <th>p1_conf</th>\n",
       "      <th>p1_dog</th>\n",
       "      <th>p2</th>\n",
       "      <th>p2_conf</th>\n",
       "      <th>p2_dog</th>\n",
       "      <th>p3</th>\n",
       "      <th>p3_conf</th>\n",
       "      <th>p3_dog</th>\n",
       "    </tr>\n",
       "  </thead>\n",
       "  <tbody>\n",
       "    <tr>\n",
       "      <th>1731</th>\n",
       "      <td>821107785811234820</td>\n",
       "      <td>https://pbs.twimg.com/media/C2UpLA-UcAEK_Fz.jpg</td>\n",
       "      <td>1</td>\n",
       "      <td>Pomeranian</td>\n",
       "      <td>0.856590</td>\n",
       "      <td>True</td>\n",
       "      <td>papillon</td>\n",
       "      <td>0.038537</td>\n",
       "      <td>True</td>\n",
       "      <td>Yorkshire_terrier</td>\n",
       "      <td>0.033146</td>\n",
       "      <td>True</td>\n",
       "    </tr>\n",
       "    <tr>\n",
       "      <th>907</th>\n",
       "      <td>700462010979500032</td>\n",
       "      <td>https://pbs.twimg.com/media/CbiKe7-W0AIVNNr.jpg</td>\n",
       "      <td>1</td>\n",
       "      <td>hamster</td>\n",
       "      <td>0.678651</td>\n",
       "      <td>False</td>\n",
       "      <td>Pomeranian</td>\n",
       "      <td>0.110268</td>\n",
       "      <td>True</td>\n",
       "      <td>Angora</td>\n",
       "      <td>0.104139</td>\n",
       "      <td>False</td>\n",
       "    </tr>\n",
       "    <tr>\n",
       "      <th>1930</th>\n",
       "      <td>858843525470990336</td>\n",
       "      <td>https://pbs.twimg.com/media/C-s5oYZXkAAMHHq.jpg</td>\n",
       "      <td>1</td>\n",
       "      <td>golden_retriever</td>\n",
       "      <td>0.578120</td>\n",
       "      <td>True</td>\n",
       "      <td>Labrador_retriever</td>\n",
       "      <td>0.286059</td>\n",
       "      <td>True</td>\n",
       "      <td>bloodhound</td>\n",
       "      <td>0.026917</td>\n",
       "      <td>True</td>\n",
       "    </tr>\n",
       "    <tr>\n",
       "      <th>1242</th>\n",
       "      <td>747204161125646336</td>\n",
       "      <td>https://pbs.twimg.com/media/Cl6aOBhWEAALuti.jpg</td>\n",
       "      <td>2</td>\n",
       "      <td>coil</td>\n",
       "      <td>0.533699</td>\n",
       "      <td>False</td>\n",
       "      <td>dugong</td>\n",
       "      <td>0.087959</td>\n",
       "      <td>False</td>\n",
       "      <td>rain_barrel</td>\n",
       "      <td>0.039221</td>\n",
       "      <td>False</td>\n",
       "    </tr>\n",
       "    <tr>\n",
       "      <th>407</th>\n",
       "      <td>673709992831262724</td>\n",
       "      <td>https://pbs.twimg.com/media/CVl_qbjW4AA8Mam.jpg</td>\n",
       "      <td>1</td>\n",
       "      <td>Chihuahua</td>\n",
       "      <td>0.330171</td>\n",
       "      <td>True</td>\n",
       "      <td>Siamese_cat</td>\n",
       "      <td>0.181580</td>\n",
       "      <td>False</td>\n",
       "      <td>kelpie</td>\n",
       "      <td>0.178227</td>\n",
       "      <td>True</td>\n",
       "    </tr>\n",
       "  </tbody>\n",
       "</table>\n",
       "</div>"
      ],
      "text/plain": [
       "                tweet_id                                          jpg_url  \\\n",
       "1731  821107785811234820  https://pbs.twimg.com/media/C2UpLA-UcAEK_Fz.jpg   \n",
       "907   700462010979500032  https://pbs.twimg.com/media/CbiKe7-W0AIVNNr.jpg   \n",
       "1930  858843525470990336  https://pbs.twimg.com/media/C-s5oYZXkAAMHHq.jpg   \n",
       "1242  747204161125646336  https://pbs.twimg.com/media/Cl6aOBhWEAALuti.jpg   \n",
       "407   673709992831262724  https://pbs.twimg.com/media/CVl_qbjW4AA8Mam.jpg   \n",
       "\n",
       "      img_num                p1   p1_conf  p1_dog                  p2  \\\n",
       "1731        1        Pomeranian  0.856590    True            papillon   \n",
       "907         1           hamster  0.678651   False          Pomeranian   \n",
       "1930        1  golden_retriever  0.578120    True  Labrador_retriever   \n",
       "1242        2              coil  0.533699   False              dugong   \n",
       "407         1         Chihuahua  0.330171    True         Siamese_cat   \n",
       "\n",
       "       p2_conf  p2_dog                 p3   p3_conf  p3_dog  \n",
       "1731  0.038537    True  Yorkshire_terrier  0.033146    True  \n",
       "907   0.110268    True             Angora  0.104139   False  \n",
       "1930  0.286059    True         bloodhound  0.026917    True  \n",
       "1242  0.087959   False        rain_barrel  0.039221   False  \n",
       "407   0.181580   False             kelpie  0.178227    True  "
      ]
     },
     "execution_count": 73,
     "metadata": {},
     "output_type": "execute_result"
    }
   ],
   "source": [
    "#查看image-predictions.tsv文件\n",
    "img_predictions_df.sample(5)"
   ]
  },
  {
   "cell_type": "code",
   "execution_count": 74,
   "metadata": {},
   "outputs": [
    {
     "name": "stdout",
     "output_type": "stream",
     "text": [
      "<class 'pandas.core.frame.DataFrame'>\n",
      "RangeIndex: 2075 entries, 0 to 2074\n",
      "Data columns (total 12 columns):\n",
      "tweet_id    2075 non-null int64\n",
      "jpg_url     2075 non-null object\n",
      "img_num     2075 non-null int64\n",
      "p1          2075 non-null object\n",
      "p1_conf     2075 non-null float64\n",
      "p1_dog      2075 non-null bool\n",
      "p2          2075 non-null object\n",
      "p2_conf     2075 non-null float64\n",
      "p2_dog      2075 non-null bool\n",
      "p3          2075 non-null object\n",
      "p3_conf     2075 non-null float64\n",
      "p3_dog      2075 non-null bool\n",
      "dtypes: bool(3), float64(3), int64(2), object(4)\n",
      "memory usage: 152.1+ KB\n"
     ]
    }
   ],
   "source": [
    "img_predictions_df.info()"
   ]
  },
  {
   "cell_type": "code",
   "execution_count": 75,
   "metadata": {},
   "outputs": [
    {
     "data": {
      "text/plain": [
       "0"
      ]
     },
     "execution_count": 75,
     "metadata": {},
     "output_type": "execute_result"
    }
   ],
   "source": [
    "sum(img_predictions_df.duplicated())"
   ]
  },
  {
   "cell_type": "code",
   "execution_count": 76,
   "metadata": {},
   "outputs": [
    {
     "data": {
      "text/html": [
       "<div>\n",
       "<style>\n",
       "    .dataframe thead tr:only-child th {\n",
       "        text-align: right;\n",
       "    }\n",
       "\n",
       "    .dataframe thead th {\n",
       "        text-align: left;\n",
       "    }\n",
       "\n",
       "    .dataframe tbody tr th {\n",
       "        vertical-align: top;\n",
       "    }\n",
       "</style>\n",
       "<table border=\"1\" class=\"dataframe\">\n",
       "  <thead>\n",
       "    <tr style=\"text-align: right;\">\n",
       "      <th></th>\n",
       "      <th>tweet_id</th>\n",
       "      <th>img_num</th>\n",
       "      <th>p1_conf</th>\n",
       "      <th>p2_conf</th>\n",
       "      <th>p3_conf</th>\n",
       "    </tr>\n",
       "  </thead>\n",
       "  <tbody>\n",
       "    <tr>\n",
       "      <th>count</th>\n",
       "      <td>2.075000e+03</td>\n",
       "      <td>2075.000000</td>\n",
       "      <td>2075.000000</td>\n",
       "      <td>2.075000e+03</td>\n",
       "      <td>2.075000e+03</td>\n",
       "    </tr>\n",
       "    <tr>\n",
       "      <th>mean</th>\n",
       "      <td>7.384514e+17</td>\n",
       "      <td>1.203855</td>\n",
       "      <td>0.594548</td>\n",
       "      <td>1.345886e-01</td>\n",
       "      <td>6.032417e-02</td>\n",
       "    </tr>\n",
       "    <tr>\n",
       "      <th>std</th>\n",
       "      <td>6.785203e+16</td>\n",
       "      <td>0.561875</td>\n",
       "      <td>0.271174</td>\n",
       "      <td>1.006657e-01</td>\n",
       "      <td>5.090593e-02</td>\n",
       "    </tr>\n",
       "    <tr>\n",
       "      <th>min</th>\n",
       "      <td>6.660209e+17</td>\n",
       "      <td>1.000000</td>\n",
       "      <td>0.044333</td>\n",
       "      <td>1.011300e-08</td>\n",
       "      <td>1.740170e-10</td>\n",
       "    </tr>\n",
       "    <tr>\n",
       "      <th>25%</th>\n",
       "      <td>6.764835e+17</td>\n",
       "      <td>1.000000</td>\n",
       "      <td>0.364412</td>\n",
       "      <td>5.388625e-02</td>\n",
       "      <td>1.622240e-02</td>\n",
       "    </tr>\n",
       "    <tr>\n",
       "      <th>50%</th>\n",
       "      <td>7.119988e+17</td>\n",
       "      <td>1.000000</td>\n",
       "      <td>0.588230</td>\n",
       "      <td>1.181810e-01</td>\n",
       "      <td>4.944380e-02</td>\n",
       "    </tr>\n",
       "    <tr>\n",
       "      <th>75%</th>\n",
       "      <td>7.932034e+17</td>\n",
       "      <td>1.000000</td>\n",
       "      <td>0.843855</td>\n",
       "      <td>1.955655e-01</td>\n",
       "      <td>9.180755e-02</td>\n",
       "    </tr>\n",
       "    <tr>\n",
       "      <th>max</th>\n",
       "      <td>8.924206e+17</td>\n",
       "      <td>4.000000</td>\n",
       "      <td>1.000000</td>\n",
       "      <td>4.880140e-01</td>\n",
       "      <td>2.734190e-01</td>\n",
       "    </tr>\n",
       "  </tbody>\n",
       "</table>\n",
       "</div>"
      ],
      "text/plain": [
       "           tweet_id      img_num      p1_conf       p2_conf       p3_conf\n",
       "count  2.075000e+03  2075.000000  2075.000000  2.075000e+03  2.075000e+03\n",
       "mean   7.384514e+17     1.203855     0.594548  1.345886e-01  6.032417e-02\n",
       "std    6.785203e+16     0.561875     0.271174  1.006657e-01  5.090593e-02\n",
       "min    6.660209e+17     1.000000     0.044333  1.011300e-08  1.740170e-10\n",
       "25%    6.764835e+17     1.000000     0.364412  5.388625e-02  1.622240e-02\n",
       "50%    7.119988e+17     1.000000     0.588230  1.181810e-01  4.944380e-02\n",
       "75%    7.932034e+17     1.000000     0.843855  1.955655e-01  9.180755e-02\n",
       "max    8.924206e+17     4.000000     1.000000  4.880140e-01  2.734190e-01"
      ]
     },
     "execution_count": 76,
     "metadata": {},
     "output_type": "execute_result"
    }
   ],
   "source": [
    "img_predictions_df.describe()"
   ]
  },
  {
   "cell_type": "code",
   "execution_count": 77,
   "metadata": {},
   "outputs": [
    {
     "data": {
      "text/html": [
       "<div>\n",
       "<style>\n",
       "    .dataframe thead tr:only-child th {\n",
       "        text-align: right;\n",
       "    }\n",
       "\n",
       "    .dataframe thead th {\n",
       "        text-align: left;\n",
       "    }\n",
       "\n",
       "    .dataframe tbody tr th {\n",
       "        vertical-align: top;\n",
       "    }\n",
       "</style>\n",
       "<table border=\"1\" class=\"dataframe\">\n",
       "  <thead>\n",
       "    <tr style=\"text-align: right;\">\n",
       "      <th></th>\n",
       "      <th>id</th>\n",
       "      <th>favorite_count</th>\n",
       "      <th>retweet_count</th>\n",
       "    </tr>\n",
       "  </thead>\n",
       "  <tbody>\n",
       "    <tr>\n",
       "      <th>0</th>\n",
       "      <td>892420643555336193</td>\n",
       "      <td>39492</td>\n",
       "      <td>8842</td>\n",
       "    </tr>\n",
       "    <tr>\n",
       "      <th>1</th>\n",
       "      <td>892177421306343426</td>\n",
       "      <td>33786</td>\n",
       "      <td>6480</td>\n",
       "    </tr>\n",
       "    <tr>\n",
       "      <th>2</th>\n",
       "      <td>891815181378084864</td>\n",
       "      <td>25445</td>\n",
       "      <td>4301</td>\n",
       "    </tr>\n",
       "    <tr>\n",
       "      <th>3</th>\n",
       "      <td>891689557279858688</td>\n",
       "      <td>42863</td>\n",
       "      <td>8925</td>\n",
       "    </tr>\n",
       "    <tr>\n",
       "      <th>4</th>\n",
       "      <td>891327558926688256</td>\n",
       "      <td>41016</td>\n",
       "      <td>9721</td>\n",
       "    </tr>\n",
       "  </tbody>\n",
       "</table>\n",
       "</div>"
      ],
      "text/plain": [
       "                   id  favorite_count  retweet_count\n",
       "0  892420643555336193           39492           8842\n",
       "1  892177421306343426           33786           6480\n",
       "2  891815181378084864           25445           4301\n",
       "3  891689557279858688           42863           8925\n",
       "4  891327558926688256           41016           9721"
      ]
     },
     "execution_count": 77,
     "metadata": {},
     "output_type": "execute_result"
    }
   ],
   "source": [
    "#查看tweet_json.txt文件\n",
    "appendix.head()"
   ]
  },
  {
   "cell_type": "code",
   "execution_count": 78,
   "metadata": {},
   "outputs": [
    {
     "name": "stdout",
     "output_type": "stream",
     "text": [
      "<class 'pandas.core.frame.DataFrame'>\n",
      "RangeIndex: 2352 entries, 0 to 2351\n",
      "Data columns (total 3 columns):\n",
      "id                2352 non-null int64\n",
      "favorite_count    2352 non-null int64\n",
      "retweet_count     2352 non-null int64\n",
      "dtypes: int64(3)\n",
      "memory usage: 55.2 KB\n"
     ]
    }
   ],
   "source": [
    "appendix.info()"
   ]
  },
  {
   "cell_type": "code",
   "execution_count": 79,
   "metadata": {},
   "outputs": [
    {
     "data": {
      "text/plain": [
       "0"
      ]
     },
     "execution_count": 79,
     "metadata": {},
     "output_type": "execute_result"
    }
   ],
   "source": [
    "sum(appendix.duplicated())"
   ]
  },
  {
   "cell_type": "code",
   "execution_count": 80,
   "metadata": {},
   "outputs": [
    {
     "data": {
      "text/html": [
       "<div>\n",
       "<style>\n",
       "    .dataframe thead tr:only-child th {\n",
       "        text-align: right;\n",
       "    }\n",
       "\n",
       "    .dataframe thead th {\n",
       "        text-align: left;\n",
       "    }\n",
       "\n",
       "    .dataframe tbody tr th {\n",
       "        vertical-align: top;\n",
       "    }\n",
       "</style>\n",
       "<table border=\"1\" class=\"dataframe\">\n",
       "  <thead>\n",
       "    <tr style=\"text-align: right;\">\n",
       "      <th></th>\n",
       "      <th>id</th>\n",
       "      <th>favorite_count</th>\n",
       "      <th>retweet_count</th>\n",
       "    </tr>\n",
       "  </thead>\n",
       "  <tbody>\n",
       "    <tr>\n",
       "      <th>count</th>\n",
       "      <td>2.352000e+03</td>\n",
       "      <td>2352.000000</td>\n",
       "      <td>2352.000000</td>\n",
       "    </tr>\n",
       "    <tr>\n",
       "      <th>mean</th>\n",
       "      <td>7.425913e+17</td>\n",
       "      <td>8109.198980</td>\n",
       "      <td>3134.932398</td>\n",
       "    </tr>\n",
       "    <tr>\n",
       "      <th>std</th>\n",
       "      <td>6.846210e+16</td>\n",
       "      <td>11980.795669</td>\n",
       "      <td>5237.846296</td>\n",
       "    </tr>\n",
       "    <tr>\n",
       "      <th>min</th>\n",
       "      <td>6.660209e+17</td>\n",
       "      <td>0.000000</td>\n",
       "      <td>0.000000</td>\n",
       "    </tr>\n",
       "    <tr>\n",
       "      <th>25%</th>\n",
       "      <td>6.783949e+17</td>\n",
       "      <td>1417.000000</td>\n",
       "      <td>618.000000</td>\n",
       "    </tr>\n",
       "    <tr>\n",
       "      <th>50%</th>\n",
       "      <td>7.193536e+17</td>\n",
       "      <td>3596.500000</td>\n",
       "      <td>1456.500000</td>\n",
       "    </tr>\n",
       "    <tr>\n",
       "      <th>75%</th>\n",
       "      <td>7.991219e+17</td>\n",
       "      <td>10118.000000</td>\n",
       "      <td>3628.750000</td>\n",
       "    </tr>\n",
       "    <tr>\n",
       "      <th>max</th>\n",
       "      <td>8.924206e+17</td>\n",
       "      <td>132318.000000</td>\n",
       "      <td>79116.000000</td>\n",
       "    </tr>\n",
       "  </tbody>\n",
       "</table>\n",
       "</div>"
      ],
      "text/plain": [
       "                 id  favorite_count  retweet_count\n",
       "count  2.352000e+03     2352.000000    2352.000000\n",
       "mean   7.425913e+17     8109.198980    3134.932398\n",
       "std    6.846210e+16    11980.795669    5237.846296\n",
       "min    6.660209e+17        0.000000       0.000000\n",
       "25%    6.783949e+17     1417.000000     618.000000\n",
       "50%    7.193536e+17     3596.500000    1456.500000\n",
       "75%    7.991219e+17    10118.000000    3628.750000\n",
       "max    8.924206e+17   132318.000000   79116.000000"
      ]
     },
     "execution_count": 80,
     "metadata": {},
     "output_type": "execute_result"
    }
   ],
   "source": [
    "appendix.describe()"
   ]
  },
  {
   "cell_type": "markdown",
   "metadata": {},
   "source": [
    "#### 2.评估数据"
   ]
  },
  {
   "cell_type": "markdown",
   "metadata": {},
   "source": [
    "2.1twitter-archive-enhanced.csv文件："
   ]
  },
  {
   "cell_type": "markdown",
   "metadata": {},
   "source": [
    "* 缺少name数据：name中含有a、空白、none数据 *10月10日更新说明\n",
    "\n",
    "* 数据中包含回复与转发信息(in_reply_to_status_id，in_reply_to_user_id，retweeted_status_id，retweeted_status_user_id，retweeted_status_timestamp) (无法清理) *2018年10月7日更新\n",
    "\n",
    "* 缺少地位信息(doggo，floofer，pupper，puppo列)（无法清理）*10月10日更新有些狗会存在多种地位（stage），需对stage进行整理\n",
    "  保留p1预测结果，如果p1_dog为false，则继续查看p2,p3预测结果。如果3个预测结果都不为狗，则保留NaN值。\n",
    "\n",
    "* source是HTML标记语言格式\n",
    "\n",
    "* 错误的数据类型(tweet_id，timestamp，stage，in_reply_to_status_id，in_reply_to_user_id，retweeted_status_id，retweeted_status_user_id，retweeted_status_timestamp)\n",
    "\n",
    "* 数值异常(rating_numerator和rating_denominator)\n",
    "\n",
    "* 检查评分的分子"
   ]
  },
  {
   "cell_type": "markdown",
   "metadata": {},
   "source": [
    "2.2image-predictions.tsv文件"
   ]
  },
  {
   "cell_type": "markdown",
   "metadata": {},
   "source": [
    "* 错误的数据类型(tweet_id)\n",
    "\n",
    "* 没有图片数据 *2018年10月7日更新"
   ]
  },
  {
   "cell_type": "markdown",
   "metadata": {},
   "source": [
    "2.3tweet_json.txt文件"
   ]
  },
  {
   "cell_type": "markdown",
   "metadata": {},
   "source": [
    "* 错误的数据类型(id)\n",
    "\n",
    "* id名称"
   ]
  },
  {
   "cell_type": "markdown",
   "metadata": {},
   "source": [
    "2.4清洁度"
   ]
  },
  {
   "cell_type": "markdown",
   "metadata": {},
   "source": [
    "* archive表格：\n",
    "\n",
    "* doggo，floofer，pupper和puppo应该合并为一个变量stage\n",
    "\n",
    "* 添加tweet_info 和 image_predictions 到 twitter_archive table *10月10日更新"
   ]
  },
  {
   "cell_type": "code",
   "execution_count": 81,
   "metadata": {},
   "outputs": [],
   "source": [
    "#清理：\n",
    "\n",
    "archive_clean = df.copy()\n",
    "\n",
    "img_predictions_clean = img_predictions_df.copy()\n",
    "\n",
    "appendix_clean = appendix.copy()"
   ]
  },
  {
   "cell_type": "markdown",
   "metadata": {},
   "source": [
    "缺失数据\n",
    "\n",
    "archive：缺失name数据"
   ]
  },
  {
   "cell_type": "markdown",
   "metadata": {},
   "source": [
    "定义\n",
    "\n",
    "运用str.extract和正则表达式解析出正确的name"
   ]
  },
  {
   "cell_type": "markdown",
   "metadata": {},
   "source": [
    "代码"
   ]
  },
  {
   "cell_type": "code",
   "execution_count": 82,
   "metadata": {},
   "outputs": [],
   "source": [
    "# 运用str.extract和正则表达式解析出每个tweet_id所对应的name\n",
    "archive_clean['name'] = archive_clean.text.str.extract('This is ([A-Z][a-z]+)', expand=False)"
   ]
  },
  {
   "cell_type": "markdown",
   "metadata": {},
   "source": [
    "测试"
   ]
  },
  {
   "cell_type": "code",
   "execution_count": 83,
   "metadata": {},
   "outputs": [
    {
     "data": {
      "text/plain": [
       "Lucy           10\n",
       "Oliver          9\n",
       "Penny           9\n",
       "Cooper          9\n",
       "Bo              9\n",
       "Tucker          9\n",
       "Charlie         9\n",
       "Lola            7\n",
       "Buddy           7\n",
       "Oscar           6\n",
       "Bella           6\n",
       "Scout           6\n",
       "Bailey          6\n",
       "Koda            5\n",
       "Louis           5\n",
       "Alfie           5\n",
       "Leo             5\n",
       "Finn            5\n",
       "Gus             5\n",
       "Milo            4\n",
       "Sampson         4\n",
       "Phil            4\n",
       "Cassie          4\n",
       "Daisy           4\n",
       "Toby            4\n",
       "Dave            4\n",
       "Ruby            4\n",
       "Derek           4\n",
       "Chip            4\n",
       "Sadie           4\n",
       "               ..\n",
       "Hector          1\n",
       "Fiji            1\n",
       "Olivi           1\n",
       "Bradley         1\n",
       "Sailor          1\n",
       "Pippin          1\n",
       "Jo              1\n",
       "Timmy           1\n",
       "Henry           1\n",
       "Shadow          1\n",
       "Apollo          1\n",
       "Beebop          1\n",
       "Pawnd           1\n",
       "Shakespeare     1\n",
       "Wiggles         1\n",
       "Philippe        1\n",
       "Trigger         1\n",
       "River           1\n",
       "Franq           1\n",
       "Tedders         1\n",
       "Crumpet         1\n",
       "Sandra          1\n",
       "Bronte          1\n",
       "Trevith         1\n",
       "Samsom          1\n",
       "Taz             1\n",
       "Monkey          1\n",
       "Pete            1\n",
       "Griffin         1\n",
       "Koko            1\n",
       "Name: name, Length: 762, dtype: int64"
      ]
     },
     "execution_count": 83,
     "metadata": {},
     "output_type": "execute_result"
    }
   ],
   "source": [
    "archive_clean.name.value_counts()"
   ]
  },
  {
   "cell_type": "markdown",
   "metadata": {},
   "source": [
    "清洁度"
   ]
  },
  {
   "cell_type": "markdown",
   "metadata": {},
   "source": [
    "#10月10日更新：\n",
    "archive文本中，有些狗会存在多种'status‘，清理文本中的doggo，floofer，pupper和puppo，合并为一个变量dog_stage\n"
   ]
  },
  {
   "cell_type": "markdown",
   "metadata": {},
   "source": [
    "代码"
   ]
  },
  {
   "cell_type": "code",
   "execution_count": 84,
   "metadata": {},
   "outputs": [],
   "source": [
    "archive_clean = df.copy()"
   ]
  },
  {
   "cell_type": "code",
   "execution_count": 85,
   "metadata": {},
   "outputs": [
    {
     "data": {
      "text/plain": [
       "394"
      ]
     },
     "execution_count": 85,
     "metadata": {},
     "output_type": "execute_result"
    }
   ],
   "source": [
    "# 狗狗stage列标明的数量\n",
    "(archive_clean.doggo!='None').sum()+(archive_clean.floofer!='None').sum()+(archive_clean.pupper!='None').sum()+(archive_clean.puppo!='None').sum()"
   ]
  },
  {
   "cell_type": "code",
   "execution_count": 86,
   "metadata": {},
   "outputs": [],
   "source": [
    "dog_stage = archive_clean['text'].apply(lambda x: ','.join(re.findall(r'(puppo|pupper|floofer|doggo|floof)', x)))"
   ]
  },
  {
   "cell_type": "code",
   "execution_count": 87,
   "metadata": {},
   "outputs": [],
   "source": [
    "dog_stage=dog_stage.str.replace('floofer','floof')\n",
    "archive_clean['dog_stage']=dog_stage"
   ]
  },
  {
   "cell_type": "code",
   "execution_count": 88,
   "metadata": {},
   "outputs": [
    {
     "name": "stdout",
     "output_type": "stream",
     "text": [
      "<class 'pandas.core.frame.DataFrame'>\n",
      "RangeIndex: 2356 entries, 0 to 2355\n",
      "Data columns (total 18 columns):\n",
      "tweet_id                      2356 non-null int64\n",
      "in_reply_to_status_id         78 non-null float64\n",
      "in_reply_to_user_id           78 non-null float64\n",
      "timestamp                     2356 non-null object\n",
      "source                        2356 non-null object\n",
      "text                          2356 non-null object\n",
      "retweeted_status_id           181 non-null float64\n",
      "retweeted_status_user_id      181 non-null float64\n",
      "retweeted_status_timestamp    181 non-null object\n",
      "expanded_urls                 2297 non-null object\n",
      "rating_numerator              2356 non-null int64\n",
      "rating_denominator            2356 non-null int64\n",
      "name                          2356 non-null object\n",
      "doggo                         2356 non-null object\n",
      "floofer                       2356 non-null object\n",
      "pupper                        2356 non-null object\n",
      "puppo                         2356 non-null object\n",
      "dog_stage                     2356 non-null object\n",
      "dtypes: float64(4), int64(3), object(11)\n",
      "memory usage: 331.4+ KB\n"
     ]
    }
   ],
   "source": [
    "archive_clean.info()"
   ]
  },
  {
   "cell_type": "code",
   "execution_count": 89,
   "metadata": {},
   "outputs": [
    {
     "data": {
      "text/html": [
       "<div>\n",
       "<style>\n",
       "    .dataframe thead tr:only-child th {\n",
       "        text-align: right;\n",
       "    }\n",
       "\n",
       "    .dataframe thead th {\n",
       "        text-align: left;\n",
       "    }\n",
       "\n",
       "    .dataframe tbody tr th {\n",
       "        vertical-align: top;\n",
       "    }\n",
       "</style>\n",
       "<table border=\"1\" class=\"dataframe\">\n",
       "  <thead>\n",
       "    <tr style=\"text-align: right;\">\n",
       "      <th></th>\n",
       "      <th>tweet_id</th>\n",
       "      <th>in_reply_to_status_id</th>\n",
       "      <th>in_reply_to_user_id</th>\n",
       "      <th>timestamp</th>\n",
       "      <th>source</th>\n",
       "      <th>text</th>\n",
       "      <th>retweeted_status_id</th>\n",
       "      <th>retweeted_status_user_id</th>\n",
       "      <th>retweeted_status_timestamp</th>\n",
       "      <th>expanded_urls</th>\n",
       "      <th>rating_numerator</th>\n",
       "      <th>rating_denominator</th>\n",
       "      <th>name</th>\n",
       "      <th>doggo</th>\n",
       "      <th>floofer</th>\n",
       "      <th>pupper</th>\n",
       "      <th>puppo</th>\n",
       "      <th>dog_stage</th>\n",
       "    </tr>\n",
       "  </thead>\n",
       "  <tbody>\n",
       "    <tr>\n",
       "      <th>461</th>\n",
       "      <td>817536400337801217</td>\n",
       "      <td>NaN</td>\n",
       "      <td>NaN</td>\n",
       "      <td>2017-01-07 01:00:41 +0000</td>\n",
       "      <td>&lt;a href=\"http://twitter.com/download/iphone\" r...</td>\n",
       "      <td>Say hello to Eugene &amp;amp; Patti Melt. No matte...</td>\n",
       "      <td>NaN</td>\n",
       "      <td>NaN</td>\n",
       "      <td>NaN</td>\n",
       "      <td>https://twitter.com/dog_rates/status/817536400...</td>\n",
       "      <td>12</td>\n",
       "      <td>10</td>\n",
       "      <td>Eugene</td>\n",
       "      <td>None</td>\n",
       "      <td>None</td>\n",
       "      <td>None</td>\n",
       "      <td>None</td>\n",
       "      <td></td>\n",
       "    </tr>\n",
       "    <tr>\n",
       "      <th>464</th>\n",
       "      <td>817415592588222464</td>\n",
       "      <td>NaN</td>\n",
       "      <td>NaN</td>\n",
       "      <td>2017-01-06 17:00:38 +0000</td>\n",
       "      <td>&lt;a href=\"http://twitter.com/download/iphone\" r...</td>\n",
       "      <td>Meet Strudel. He's rather h*ckin pupset that y...</td>\n",
       "      <td>NaN</td>\n",
       "      <td>NaN</td>\n",
       "      <td>NaN</td>\n",
       "      <td>https://www.gofundme.com/help-strudel-walk-aga...</td>\n",
       "      <td>11</td>\n",
       "      <td>10</td>\n",
       "      <td>Strudel</td>\n",
       "      <td>None</td>\n",
       "      <td>None</td>\n",
       "      <td>None</td>\n",
       "      <td>None</td>\n",
       "      <td></td>\n",
       "    </tr>\n",
       "    <tr>\n",
       "      <th>178</th>\n",
       "      <td>857263160327368704</td>\n",
       "      <td>NaN</td>\n",
       "      <td>NaN</td>\n",
       "      <td>2017-04-26 16:00:39 +0000</td>\n",
       "      <td>&lt;a href=\"http://twitter.com/download/iphone\" r...</td>\n",
       "      <td>This is Oscar and Oliver. Oliver shrunk Oscar....</td>\n",
       "      <td>NaN</td>\n",
       "      <td>NaN</td>\n",
       "      <td>NaN</td>\n",
       "      <td>https://twitter.com/dog_rates/status/857263160...</td>\n",
       "      <td>13</td>\n",
       "      <td>10</td>\n",
       "      <td>Oscar</td>\n",
       "      <td>None</td>\n",
       "      <td>None</td>\n",
       "      <td>None</td>\n",
       "      <td>None</td>\n",
       "      <td></td>\n",
       "    </tr>\n",
       "  </tbody>\n",
       "</table>\n",
       "</div>"
      ],
      "text/plain": [
       "               tweet_id  in_reply_to_status_id  in_reply_to_user_id  \\\n",
       "461  817536400337801217                    NaN                  NaN   \n",
       "464  817415592588222464                    NaN                  NaN   \n",
       "178  857263160327368704                    NaN                  NaN   \n",
       "\n",
       "                     timestamp  \\\n",
       "461  2017-01-07 01:00:41 +0000   \n",
       "464  2017-01-06 17:00:38 +0000   \n",
       "178  2017-04-26 16:00:39 +0000   \n",
       "\n",
       "                                                source  \\\n",
       "461  <a href=\"http://twitter.com/download/iphone\" r...   \n",
       "464  <a href=\"http://twitter.com/download/iphone\" r...   \n",
       "178  <a href=\"http://twitter.com/download/iphone\" r...   \n",
       "\n",
       "                                                  text  retweeted_status_id  \\\n",
       "461  Say hello to Eugene &amp; Patti Melt. No matte...                  NaN   \n",
       "464  Meet Strudel. He's rather h*ckin pupset that y...                  NaN   \n",
       "178  This is Oscar and Oliver. Oliver shrunk Oscar....                  NaN   \n",
       "\n",
       "     retweeted_status_user_id retweeted_status_timestamp  \\\n",
       "461                       NaN                        NaN   \n",
       "464                       NaN                        NaN   \n",
       "178                       NaN                        NaN   \n",
       "\n",
       "                                         expanded_urls  rating_numerator  \\\n",
       "461  https://twitter.com/dog_rates/status/817536400...                12   \n",
       "464  https://www.gofundme.com/help-strudel-walk-aga...                11   \n",
       "178  https://twitter.com/dog_rates/status/857263160...                13   \n",
       "\n",
       "     rating_denominator     name doggo floofer pupper puppo dog_stage  \n",
       "461                  10   Eugene  None    None   None  None            \n",
       "464                  10  Strudel  None    None   None  None            \n",
       "178                  10    Oscar  None    None   None  None            "
      ]
     },
     "execution_count": 89,
     "metadata": {},
     "output_type": "execute_result"
    }
   ],
   "source": [
    "archive_clean.sample(3)"
   ]
  },
  {
   "cell_type": "code",
   "execution_count": 90,
   "metadata": {},
   "outputs": [
    {
     "data": {
      "text/plain": [
       "                        1938\n",
       "pupper                   254\n",
       "doggo                     86\n",
       "puppo                     35\n",
       "floof                     21\n",
       "doggo,pupper               7\n",
       "pupper,pupper              7\n",
       "pupper,doggo               2\n",
       "floof,floof                2\n",
       "puppo,doggo                2\n",
       "pupper,doggo,doggo         1\n",
       "pupper,pupper,pupper       1\n",
       "Name: dog_stage, dtype: int64"
      ]
     },
     "execution_count": 90,
     "metadata": {},
     "output_type": "execute_result"
    }
   ],
   "source": [
    "archive_clean['dog_stage'].value_counts()"
   ]
  },
  {
   "cell_type": "code",
   "execution_count": 91,
   "metadata": {},
   "outputs": [],
   "source": [
    "#修改重复值\n",
    "archive_clean['dog_stage']=archive_clean['dog_stage'].str.replace('pupper,pupper,pupper','pupper')\n",
    "archive_clean['dog_stage']=archive_clean['dog_stage'].str.replace('pupper,doggo,doggo','doggo')\n",
    "archive_clean['dog_stage']=archive_clean['dog_stage'].str.replace('pupper,pupper','pupper')\n",
    "archive_clean['dog_stage']=archive_clean['dog_stage'].str.replace('floof,floof','floof')"
   ]
  },
  {
   "cell_type": "code",
   "execution_count": 92,
   "metadata": {},
   "outputs": [
    {
     "data": {
      "text/html": [
       "<div>\n",
       "<style>\n",
       "    .dataframe thead tr:only-child th {\n",
       "        text-align: right;\n",
       "    }\n",
       "\n",
       "    .dataframe thead th {\n",
       "        text-align: left;\n",
       "    }\n",
       "\n",
       "    .dataframe tbody tr th {\n",
       "        vertical-align: top;\n",
       "    }\n",
       "</style>\n",
       "<table border=\"1\" class=\"dataframe\">\n",
       "  <thead>\n",
       "    <tr style=\"text-align: right;\">\n",
       "      <th></th>\n",
       "      <th>tweet_id</th>\n",
       "      <th>in_reply_to_status_id</th>\n",
       "      <th>in_reply_to_user_id</th>\n",
       "      <th>timestamp</th>\n",
       "      <th>source</th>\n",
       "      <th>text</th>\n",
       "      <th>retweeted_status_id</th>\n",
       "      <th>retweeted_status_user_id</th>\n",
       "      <th>retweeted_status_timestamp</th>\n",
       "      <th>expanded_urls</th>\n",
       "      <th>rating_numerator</th>\n",
       "      <th>rating_denominator</th>\n",
       "      <th>name</th>\n",
       "      <th>doggo</th>\n",
       "      <th>floofer</th>\n",
       "      <th>pupper</th>\n",
       "      <th>puppo</th>\n",
       "      <th>dog_stage</th>\n",
       "    </tr>\n",
       "  </thead>\n",
       "  <tbody>\n",
       "    <tr>\n",
       "      <th>679</th>\n",
       "      <td>789137962068021249</td>\n",
       "      <td>NaN</td>\n",
       "      <td>NaN</td>\n",
       "      <td>2016-10-20 16:15:26 +0000</td>\n",
       "      <td>&lt;a href=\"http://twitter.com/download/iphone\" r...</td>\n",
       "      <td>This is Bo. He's a West Congolese Bugaboop Snu...</td>\n",
       "      <td>NaN</td>\n",
       "      <td>NaN</td>\n",
       "      <td>NaN</td>\n",
       "      <td>https://twitter.com/dog_rates/status/789137962...</td>\n",
       "      <td>12</td>\n",
       "      <td>10</td>\n",
       "      <td>Bo</td>\n",
       "      <td>None</td>\n",
       "      <td>None</td>\n",
       "      <td>None</td>\n",
       "      <td>None</td>\n",
       "      <td></td>\n",
       "    </tr>\n",
       "  </tbody>\n",
       "</table>\n",
       "</div>"
      ],
      "text/plain": [
       "               tweet_id  in_reply_to_status_id  in_reply_to_user_id  \\\n",
       "679  789137962068021249                    NaN                  NaN   \n",
       "\n",
       "                     timestamp  \\\n",
       "679  2016-10-20 16:15:26 +0000   \n",
       "\n",
       "                                                source  \\\n",
       "679  <a href=\"http://twitter.com/download/iphone\" r...   \n",
       "\n",
       "                                                  text  retweeted_status_id  \\\n",
       "679  This is Bo. He's a West Congolese Bugaboop Snu...                  NaN   \n",
       "\n",
       "     retweeted_status_user_id retweeted_status_timestamp  \\\n",
       "679                       NaN                        NaN   \n",
       "\n",
       "                                         expanded_urls  rating_numerator  \\\n",
       "679  https://twitter.com/dog_rates/status/789137962...                12   \n",
       "\n",
       "     rating_denominator name doggo floofer pupper puppo dog_stage  \n",
       "679                  10   Bo  None    None   None  None            "
      ]
     },
     "execution_count": 92,
     "metadata": {},
     "output_type": "execute_result"
    }
   ],
   "source": [
    "archive_clean.sample()"
   ]
  },
  {
   "cell_type": "code",
   "execution_count": 93,
   "metadata": {},
   "outputs": [],
   "source": [
    "#删除pupper,doggo等四列\n",
    "archive_clean.drop(['doggo','floofer','pupper','puppo'],axis=1,inplace=True)"
   ]
  },
  {
   "cell_type": "code",
   "execution_count": 94,
   "metadata": {},
   "outputs": [
    {
     "data": {
      "text/html": [
       "<div>\n",
       "<style>\n",
       "    .dataframe thead tr:only-child th {\n",
       "        text-align: right;\n",
       "    }\n",
       "\n",
       "    .dataframe thead th {\n",
       "        text-align: left;\n",
       "    }\n",
       "\n",
       "    .dataframe tbody tr th {\n",
       "        vertical-align: top;\n",
       "    }\n",
       "</style>\n",
       "<table border=\"1\" class=\"dataframe\">\n",
       "  <thead>\n",
       "    <tr style=\"text-align: right;\">\n",
       "      <th></th>\n",
       "      <th>tweet_id</th>\n",
       "      <th>in_reply_to_status_id</th>\n",
       "      <th>in_reply_to_user_id</th>\n",
       "      <th>timestamp</th>\n",
       "      <th>source</th>\n",
       "      <th>text</th>\n",
       "      <th>retweeted_status_id</th>\n",
       "      <th>retweeted_status_user_id</th>\n",
       "      <th>retweeted_status_timestamp</th>\n",
       "      <th>expanded_urls</th>\n",
       "      <th>rating_numerator</th>\n",
       "      <th>rating_denominator</th>\n",
       "      <th>name</th>\n",
       "      <th>dog_stage</th>\n",
       "    </tr>\n",
       "  </thead>\n",
       "  <tbody>\n",
       "    <tr>\n",
       "      <th>2121</th>\n",
       "      <td>670408998013820928</td>\n",
       "      <td>NaN</td>\n",
       "      <td>NaN</td>\n",
       "      <td>2015-11-28 01:08:55 +0000</td>\n",
       "      <td>&lt;a href=\"http://twitter.com/download/iphone\" r...</td>\n",
       "      <td>This is Peanut. He was the World Table Tennis ...</td>\n",
       "      <td>NaN</td>\n",
       "      <td>NaN</td>\n",
       "      <td>NaN</td>\n",
       "      <td>https://twitter.com/dog_rates/status/670408998...</td>\n",
       "      <td>10</td>\n",
       "      <td>10</td>\n",
       "      <td>Peanut</td>\n",
       "      <td></td>\n",
       "    </tr>\n",
       "  </tbody>\n",
       "</table>\n",
       "</div>"
      ],
      "text/plain": [
       "                tweet_id  in_reply_to_status_id  in_reply_to_user_id  \\\n",
       "2121  670408998013820928                    NaN                  NaN   \n",
       "\n",
       "                      timestamp  \\\n",
       "2121  2015-11-28 01:08:55 +0000   \n",
       "\n",
       "                                                 source  \\\n",
       "2121  <a href=\"http://twitter.com/download/iphone\" r...   \n",
       "\n",
       "                                                   text  retweeted_status_id  \\\n",
       "2121  This is Peanut. He was the World Table Tennis ...                  NaN   \n",
       "\n",
       "      retweeted_status_user_id retweeted_status_timestamp  \\\n",
       "2121                       NaN                        NaN   \n",
       "\n",
       "                                          expanded_urls  rating_numerator  \\\n",
       "2121  https://twitter.com/dog_rates/status/670408998...                10   \n",
       "\n",
       "      rating_denominator    name dog_stage  \n",
       "2121                  10  Peanut            "
      ]
     },
     "execution_count": 94,
     "metadata": {},
     "output_type": "execute_result"
    }
   ],
   "source": [
    "archive_clean.sample()"
   ]
  },
  {
   "cell_type": "markdown",
   "metadata": {},
   "source": [
    "定义：删除掉关于retweets的数据 *2018年10月7日更新"
   ]
  },
  {
   "cell_type": "markdown",
   "metadata": {},
   "source": [
    "代码"
   ]
  },
  {
   "cell_type": "code",
   "execution_count": 95,
   "metadata": {},
   "outputs": [],
   "source": [
    "archive_clean = archive_clean[archive_clean['retweeted_status_id'].isnull()]"
   ]
  },
  {
   "cell_type": "markdown",
   "metadata": {},
   "source": [
    "测试"
   ]
  },
  {
   "cell_type": "code",
   "execution_count": 96,
   "metadata": {},
   "outputs": [
    {
     "name": "stdout",
     "output_type": "stream",
     "text": [
      "<class 'pandas.core.frame.DataFrame'>\n",
      "Int64Index: 2175 entries, 0 to 2355\n",
      "Data columns (total 14 columns):\n",
      "tweet_id                      2175 non-null int64\n",
      "in_reply_to_status_id         78 non-null float64\n",
      "in_reply_to_user_id           78 non-null float64\n",
      "timestamp                     2175 non-null object\n",
      "source                        2175 non-null object\n",
      "text                          2175 non-null object\n",
      "retweeted_status_id           0 non-null float64\n",
      "retweeted_status_user_id      0 non-null float64\n",
      "retweeted_status_timestamp    0 non-null object\n",
      "expanded_urls                 2117 non-null object\n",
      "rating_numerator              2175 non-null int64\n",
      "rating_denominator            2175 non-null int64\n",
      "name                          2175 non-null object\n",
      "dog_stage                     2175 non-null object\n",
      "dtypes: float64(4), int64(3), object(7)\n",
      "memory usage: 254.9+ KB\n"
     ]
    }
   ],
   "source": [
    "archive_clean.info()"
   ]
  },
  {
   "cell_type": "code",
   "execution_count": 97,
   "metadata": {},
   "outputs": [
    {
     "data": {
      "text/html": [
       "<div>\n",
       "<style>\n",
       "    .dataframe thead tr:only-child th {\n",
       "        text-align: right;\n",
       "    }\n",
       "\n",
       "    .dataframe thead th {\n",
       "        text-align: left;\n",
       "    }\n",
       "\n",
       "    .dataframe tbody tr th {\n",
       "        vertical-align: top;\n",
       "    }\n",
       "</style>\n",
       "<table border=\"1\" class=\"dataframe\">\n",
       "  <thead>\n",
       "    <tr style=\"text-align: right;\">\n",
       "      <th></th>\n",
       "      <th>tweet_id</th>\n",
       "      <th>in_reply_to_status_id</th>\n",
       "      <th>in_reply_to_user_id</th>\n",
       "      <th>timestamp</th>\n",
       "      <th>source</th>\n",
       "      <th>text</th>\n",
       "      <th>retweeted_status_id</th>\n",
       "      <th>retweeted_status_user_id</th>\n",
       "      <th>retweeted_status_timestamp</th>\n",
       "      <th>expanded_urls</th>\n",
       "      <th>rating_numerator</th>\n",
       "      <th>rating_denominator</th>\n",
       "      <th>name</th>\n",
       "      <th>dog_stage</th>\n",
       "    </tr>\n",
       "  </thead>\n",
       "  <tbody>\n",
       "    <tr>\n",
       "      <th>1676</th>\n",
       "      <td>682088079302213632</td>\n",
       "      <td>NaN</td>\n",
       "      <td>NaN</td>\n",
       "      <td>2015-12-30 06:37:25 +0000</td>\n",
       "      <td>&lt;a href=\"http://vine.co\" rel=\"nofollow\"&gt;Vine -...</td>\n",
       "      <td>I'm not sure what this dog is doing but it's p...</td>\n",
       "      <td>NaN</td>\n",
       "      <td>NaN</td>\n",
       "      <td>NaN</td>\n",
       "      <td>https://vine.co/v/iqMjlxULzbn</td>\n",
       "      <td>12</td>\n",
       "      <td>10</td>\n",
       "      <td>None</td>\n",
       "      <td></td>\n",
       "    </tr>\n",
       "    <tr>\n",
       "      <th>1897</th>\n",
       "      <td>674737130913071104</td>\n",
       "      <td>NaN</td>\n",
       "      <td>NaN</td>\n",
       "      <td>2015-12-09 23:47:22 +0000</td>\n",
       "      <td>&lt;a href=\"http://twitter.com/download/iphone\" r...</td>\n",
       "      <td>Meet Rufio. He is unaware of the pink legless ...</td>\n",
       "      <td>NaN</td>\n",
       "      <td>NaN</td>\n",
       "      <td>NaN</td>\n",
       "      <td>https://twitter.com/dog_rates/status/674737130...</td>\n",
       "      <td>10</td>\n",
       "      <td>10</td>\n",
       "      <td>Rufio</td>\n",
       "      <td>pupper</td>\n",
       "    </tr>\n",
       "    <tr>\n",
       "      <th>1773</th>\n",
       "      <td>678255464182861824</td>\n",
       "      <td>NaN</td>\n",
       "      <td>NaN</td>\n",
       "      <td>2015-12-19 16:47:58 +0000</td>\n",
       "      <td>&lt;a href=\"http://twitter.com/download/iphone\" r...</td>\n",
       "      <td>This is Jessifer. She is a Bismoth Teriyaki. F...</td>\n",
       "      <td>NaN</td>\n",
       "      <td>NaN</td>\n",
       "      <td>NaN</td>\n",
       "      <td>https://twitter.com/dog_rates/status/678255464...</td>\n",
       "      <td>9</td>\n",
       "      <td>10</td>\n",
       "      <td>Jessifer</td>\n",
       "      <td></td>\n",
       "    </tr>\n",
       "  </tbody>\n",
       "</table>\n",
       "</div>"
      ],
      "text/plain": [
       "                tweet_id  in_reply_to_status_id  in_reply_to_user_id  \\\n",
       "1676  682088079302213632                    NaN                  NaN   \n",
       "1897  674737130913071104                    NaN                  NaN   \n",
       "1773  678255464182861824                    NaN                  NaN   \n",
       "\n",
       "                      timestamp  \\\n",
       "1676  2015-12-30 06:37:25 +0000   \n",
       "1897  2015-12-09 23:47:22 +0000   \n",
       "1773  2015-12-19 16:47:58 +0000   \n",
       "\n",
       "                                                 source  \\\n",
       "1676  <a href=\"http://vine.co\" rel=\"nofollow\">Vine -...   \n",
       "1897  <a href=\"http://twitter.com/download/iphone\" r...   \n",
       "1773  <a href=\"http://twitter.com/download/iphone\" r...   \n",
       "\n",
       "                                                   text  retweeted_status_id  \\\n",
       "1676  I'm not sure what this dog is doing but it's p...                  NaN   \n",
       "1897  Meet Rufio. He is unaware of the pink legless ...                  NaN   \n",
       "1773  This is Jessifer. She is a Bismoth Teriyaki. F...                  NaN   \n",
       "\n",
       "      retweeted_status_user_id retweeted_status_timestamp  \\\n",
       "1676                       NaN                        NaN   \n",
       "1897                       NaN                        NaN   \n",
       "1773                       NaN                        NaN   \n",
       "\n",
       "                                          expanded_urls  rating_numerator  \\\n",
       "1676                      https://vine.co/v/iqMjlxULzbn                12   \n",
       "1897  https://twitter.com/dog_rates/status/674737130...                10   \n",
       "1773  https://twitter.com/dog_rates/status/678255464...                 9   \n",
       "\n",
       "      rating_denominator      name dog_stage  \n",
       "1676                  10      None            \n",
       "1897                  10     Rufio    pupper  \n",
       "1773                  10  Jessifer            "
      ]
     },
     "execution_count": 97,
     "metadata": {},
     "output_type": "execute_result"
    }
   ],
   "source": [
    "archive_clean.sample(3)"
   ]
  },
  {
   "cell_type": "code",
   "execution_count": 98,
   "metadata": {},
   "outputs": [],
   "source": [
    "archive_clean = archive_clean.drop(['retweeted_status_id', 'retweeted_status_user_id', 'retweeted_status_timestamp'], axis = 1)"
   ]
  },
  {
   "cell_type": "code",
   "execution_count": 99,
   "metadata": {},
   "outputs": [
    {
     "name": "stdout",
     "output_type": "stream",
     "text": [
      "<class 'pandas.core.frame.DataFrame'>\n",
      "Int64Index: 2175 entries, 0 to 2355\n",
      "Data columns (total 11 columns):\n",
      "tweet_id                 2175 non-null int64\n",
      "in_reply_to_status_id    78 non-null float64\n",
      "in_reply_to_user_id      78 non-null float64\n",
      "timestamp                2175 non-null object\n",
      "source                   2175 non-null object\n",
      "text                     2175 non-null object\n",
      "expanded_urls            2117 non-null object\n",
      "rating_numerator         2175 non-null int64\n",
      "rating_denominator       2175 non-null int64\n",
      "name                     2175 non-null object\n",
      "dog_stage                2175 non-null object\n",
      "dtypes: float64(2), int64(3), object(6)\n",
      "memory usage: 203.9+ KB\n"
     ]
    }
   ],
   "source": [
    "archive_clean.info()"
   ]
  },
  {
   "cell_type": "code",
   "execution_count": 100,
   "metadata": {},
   "outputs": [
    {
     "data": {
      "text/plain": [
       "12      500\n",
       "10      442\n",
       "11      426\n",
       "13      307\n",
       "9       156\n",
       "8        98\n",
       "7        54\n",
       "14       43\n",
       "5        36\n",
       "6        32\n",
       "3        19\n",
       "4        17\n",
       "2         9\n",
       "1         8\n",
       "420       2\n",
       "0         2\n",
       "20        1\n",
       "24        1\n",
       "26        1\n",
       "84        1\n",
       "44        1\n",
       "50        1\n",
       "60        1\n",
       "80        1\n",
       "165       1\n",
       "88        1\n",
       "144       1\n",
       "182       1\n",
       "143       1\n",
       "666       1\n",
       "960       1\n",
       "1776      1\n",
       "15        1\n",
       "17        1\n",
       "27        1\n",
       "45        1\n",
       "75        1\n",
       "99        1\n",
       "121       1\n",
       "204       1\n",
       "Name: rating_numerator, dtype: int64"
      ]
     },
     "execution_count": 100,
     "metadata": {},
     "output_type": "execute_result"
    }
   ],
   "source": [
    "#检查评分的分子 *10月12日更新\n",
    "archive_clean.rating_numerator.value_counts()"
   ]
  },
  {
   "cell_type": "code",
   "execution_count": 101,
   "metadata": {},
   "outputs": [
    {
     "data": {
      "text/plain": [
       "10     2153\n",
       "50        3\n",
       "80        2\n",
       "11        2\n",
       "20        2\n",
       "2         1\n",
       "16        1\n",
       "40        1\n",
       "70        1\n",
       "15        1\n",
       "90        1\n",
       "110       1\n",
       "120       1\n",
       "130       1\n",
       "150       1\n",
       "170       1\n",
       "7         1\n",
       "0         1\n",
       "Name: rating_denominator, dtype: int64"
      ]
     },
     "execution_count": 101,
     "metadata": {},
     "output_type": "execute_result"
    }
   ],
   "source": [
    "#检查分母\n",
    "archive_clean.rating_denominator.value_counts()"
   ]
  },
  {
   "cell_type": "code",
   "execution_count": 102,
   "metadata": {},
   "outputs": [
    {
     "data": {
      "text/plain": [
       "'Why does this never happen at my front door... 165/150 https://t.co/HmwrdfEfUE'"
      ]
     },
     "execution_count": 102,
     "metadata": {},
     "output_type": "execute_result"
    }
   ],
   "source": [
    "#提取一个分子、分母大于10的数据行进行查看\n",
    "archive_clean.text[902]"
   ]
  },
  {
   "cell_type": "code",
   "execution_count": 103,
   "metadata": {},
   "outputs": [
    {
     "name": "stdout",
     "output_type": "stream",
     "text": [
      "@jonnysun @Lin_Manuel ok jomny I know you're excited but 960/00 isn't a valid rating, 13/10 is tho\n"
     ]
    }
   ],
   "source": [
    "# 查看一个评分分母为0的text\n",
    "print(archive_clean.query('rating_denominator==0').text[313])"
   ]
  },
  {
   "cell_type": "code",
   "execution_count": 104,
   "metadata": {},
   "outputs": [
    {
     "data": {
      "text/plain": [
       "str"
      ]
     },
     "execution_count": 104,
     "metadata": {},
     "output_type": "execute_result"
    }
   ],
   "source": [
    "type(archive_clean.timestamp[0])"
   ]
  },
  {
   "cell_type": "markdown",
   "metadata": {},
   "source": [
    "定义：去除没有图像的数据 *2018年10月9日更新"
   ]
  },
  {
   "cell_type": "markdown",
   "metadata": {},
   "source": [
    "代码"
   ]
  },
  {
   "cell_type": "code",
   "execution_count": 105,
   "metadata": {},
   "outputs": [],
   "source": [
    "#添加tweet_info 和 image_predictions 到 twitter_archive table. 2018年10月9日更新\n",
    "twitter_archive_clean = pd.merge(left=archive_clean, right=appendix_clean, left_on='tweet_id', right_on='id', how='inner')"
   ]
  },
  {
   "cell_type": "code",
   "execution_count": 106,
   "metadata": {},
   "outputs": [],
   "source": [
    "twitter_archive_clean = twitter_archive_clean.merge(img_predictions_clean, on='tweet_id', how='inner')"
   ]
  },
  {
   "cell_type": "code",
   "execution_count": 107,
   "metadata": {},
   "outputs": [],
   "source": [
    "twitter_archive_clean = twitter_archive_clean.drop('id', axis=1)"
   ]
  },
  {
   "cell_type": "code",
   "execution_count": 108,
   "metadata": {
    "scrolled": true
   },
   "outputs": [
    {
     "name": "stdout",
     "output_type": "stream",
     "text": [
      "<class 'pandas.core.frame.DataFrame'>\n",
      "Int64Index: 1994 entries, 0 to 1993\n",
      "Data columns (total 24 columns):\n",
      "tweet_id                 1994 non-null int64\n",
      "in_reply_to_status_id    23 non-null float64\n",
      "in_reply_to_user_id      23 non-null float64\n",
      "timestamp                1994 non-null object\n",
      "source                   1994 non-null object\n",
      "text                     1994 non-null object\n",
      "expanded_urls            1994 non-null object\n",
      "rating_numerator         1994 non-null int64\n",
      "rating_denominator       1994 non-null int64\n",
      "name                     1994 non-null object\n",
      "dog_stage                1994 non-null object\n",
      "favorite_count           1994 non-null int64\n",
      "retweet_count            1994 non-null int64\n",
      "jpg_url                  1994 non-null object\n",
      "img_num                  1994 non-null int64\n",
      "p1                       1994 non-null object\n",
      "p1_conf                  1994 non-null float64\n",
      "p1_dog                   1994 non-null bool\n",
      "p2                       1994 non-null object\n",
      "p2_conf                  1994 non-null float64\n",
      "p2_dog                   1994 non-null bool\n",
      "p3                       1994 non-null object\n",
      "p3_conf                  1994 non-null float64\n",
      "p3_dog                   1994 non-null bool\n",
      "dtypes: bool(3), float64(5), int64(6), object(10)\n",
      "memory usage: 348.6+ KB\n"
     ]
    }
   ],
   "source": [
    "twitter_archive_clean.info()"
   ]
  },
  {
   "cell_type": "code",
   "execution_count": 109,
   "metadata": {},
   "outputs": [],
   "source": [
    "#去除没有images(expand_urls)的数据\n",
    "twitter_archive_clean = twitter_archive_clean.dropna(subset=['expanded_urls'])"
   ]
  },
  {
   "cell_type": "markdown",
   "metadata": {},
   "source": [
    "测试"
   ]
  },
  {
   "cell_type": "code",
   "execution_count": 110,
   "metadata": {},
   "outputs": [
    {
     "data": {
      "text/plain": [
       "0"
      ]
     },
     "execution_count": 110,
     "metadata": {},
     "output_type": "execute_result"
    }
   ],
   "source": [
    "sum(twitter_archive_clean['expanded_urls'].isnull())"
   ]
  },
  {
   "cell_type": "code",
   "execution_count": 111,
   "metadata": {},
   "outputs": [
    {
     "data": {
      "text/html": [
       "<div>\n",
       "<style>\n",
       "    .dataframe thead tr:only-child th {\n",
       "        text-align: right;\n",
       "    }\n",
       "\n",
       "    .dataframe thead th {\n",
       "        text-align: left;\n",
       "    }\n",
       "\n",
       "    .dataframe tbody tr th {\n",
       "        vertical-align: top;\n",
       "    }\n",
       "</style>\n",
       "<table border=\"1\" class=\"dataframe\">\n",
       "  <thead>\n",
       "    <tr style=\"text-align: right;\">\n",
       "      <th></th>\n",
       "      <th>tweet_id</th>\n",
       "      <th>in_reply_to_status_id</th>\n",
       "      <th>in_reply_to_user_id</th>\n",
       "      <th>timestamp</th>\n",
       "      <th>source</th>\n",
       "      <th>text</th>\n",
       "      <th>expanded_urls</th>\n",
       "      <th>rating_numerator</th>\n",
       "      <th>rating_denominator</th>\n",
       "      <th>name</th>\n",
       "      <th>...</th>\n",
       "      <th>img_num</th>\n",
       "      <th>p1</th>\n",
       "      <th>p1_conf</th>\n",
       "      <th>p1_dog</th>\n",
       "      <th>p2</th>\n",
       "      <th>p2_conf</th>\n",
       "      <th>p2_dog</th>\n",
       "      <th>p3</th>\n",
       "      <th>p3_conf</th>\n",
       "      <th>p3_dog</th>\n",
       "    </tr>\n",
       "  </thead>\n",
       "  <tbody>\n",
       "    <tr>\n",
       "      <th>664</th>\n",
       "      <td>758355060040593408</td>\n",
       "      <td>NaN</td>\n",
       "      <td>NaN</td>\n",
       "      <td>2016-07-27 17:35:10 +0000</td>\n",
       "      <td>&lt;a href=\"http://twitter.com/download/iphone\" r...</td>\n",
       "      <td>This is Corey. He's a Portobello Corgicool. Tr...</td>\n",
       "      <td>https://twitter.com/dog_rates/status/758355060...</td>\n",
       "      <td>11</td>\n",
       "      <td>10</td>\n",
       "      <td>Corey</td>\n",
       "      <td>...</td>\n",
       "      <td>1</td>\n",
       "      <td>Pembroke</td>\n",
       "      <td>0.987643</td>\n",
       "      <td>True</td>\n",
       "      <td>Cardigan</td>\n",
       "      <td>0.012112</td>\n",
       "      <td>True</td>\n",
       "      <td>Siamese_cat</td>\n",
       "      <td>0.000117</td>\n",
       "      <td>False</td>\n",
       "    </tr>\n",
       "  </tbody>\n",
       "</table>\n",
       "<p>1 rows × 24 columns</p>\n",
       "</div>"
      ],
      "text/plain": [
       "               tweet_id  in_reply_to_status_id  in_reply_to_user_id  \\\n",
       "664  758355060040593408                    NaN                  NaN   \n",
       "\n",
       "                     timestamp  \\\n",
       "664  2016-07-27 17:35:10 +0000   \n",
       "\n",
       "                                                source  \\\n",
       "664  <a href=\"http://twitter.com/download/iphone\" r...   \n",
       "\n",
       "                                                  text  \\\n",
       "664  This is Corey. He's a Portobello Corgicool. Tr...   \n",
       "\n",
       "                                         expanded_urls  rating_numerator  \\\n",
       "664  https://twitter.com/dog_rates/status/758355060...                11   \n",
       "\n",
       "     rating_denominator   name   ...   img_num        p1   p1_conf p1_dog  \\\n",
       "664                  10  Corey   ...         1  Pembroke  0.987643   True   \n",
       "\n",
       "           p2   p2_conf  p2_dog           p3   p3_conf  p3_dog  \n",
       "664  Cardigan  0.012112    True  Siamese_cat  0.000117   False  \n",
       "\n",
       "[1 rows x 24 columns]"
      ]
     },
     "execution_count": 111,
     "metadata": {},
     "output_type": "execute_result"
    }
   ],
   "source": [
    "twitter_archive_clean.sample()"
   ]
  },
  {
   "cell_type": "markdown",
   "metadata": {},
   "source": [
    "质量"
   ]
  },
  {
   "cell_type": "markdown",
   "metadata": {},
   "source": [
    "source是HTML标记语言格式 "
   ]
  },
  {
   "cell_type": "markdown",
   "metadata": {},
   "source": [
    "定义"
   ]
  },
  {
   "cell_type": "markdown",
   "metadata": {},
   "source": [
    "运用str.extract提取source中的来源信息"
   ]
  },
  {
   "cell_type": "markdown",
   "metadata": {},
   "source": [
    "代码"
   ]
  },
  {
   "cell_type": "code",
   "execution_count": 112,
   "metadata": {},
   "outputs": [
    {
     "data": {
      "text/plain": [
       "<a href=\"http://twitter.com/download/iphone\" rel=\"nofollow\">Twitter for iPhone</a>     1955\n",
       "<a href=\"http://twitter.com\" rel=\"nofollow\">Twitter Web Client</a>                       28\n",
       "<a href=\"https://about.twitter.com/products/tweetdeck\" rel=\"nofollow\">TweetDeck</a>      11\n",
       "Name: source, dtype: int64"
      ]
     },
     "execution_count": 112,
     "metadata": {},
     "output_type": "execute_result"
    }
   ],
   "source": [
    "#10月11日更新，弃用原来的三个表格，使用twitter_archive_clean主表格\n",
    "twitter_archive_clean.source.value_counts()"
   ]
  },
  {
   "cell_type": "code",
   "execution_count": 113,
   "metadata": {},
   "outputs": [
    {
     "name": "stderr",
     "output_type": "stream",
     "text": [
      "/opt/conda/lib/python3.6/site-packages/ipykernel_launcher.py:1: FutureWarning: currently extract(expand=None) means expand=False (return Index/Series/DataFrame) but in a future version of pandas this will be changed to expand=True (return DataFrame)\n",
      "  \"\"\"Entry point for launching an IPython kernel.\n"
     ]
    }
   ],
   "source": [
    "twitter_archive_clean['source']=twitter_archive_clean['source'].str.extract('(iPhone|Web Client|TweetDeck)')"
   ]
  },
  {
   "cell_type": "markdown",
   "metadata": {},
   "source": [
    "测试"
   ]
  },
  {
   "cell_type": "code",
   "execution_count": 114,
   "metadata": {},
   "outputs": [
    {
     "data": {
      "text/html": [
       "<div>\n",
       "<style>\n",
       "    .dataframe thead tr:only-child th {\n",
       "        text-align: right;\n",
       "    }\n",
       "\n",
       "    .dataframe thead th {\n",
       "        text-align: left;\n",
       "    }\n",
       "\n",
       "    .dataframe tbody tr th {\n",
       "        vertical-align: top;\n",
       "    }\n",
       "</style>\n",
       "<table border=\"1\" class=\"dataframe\">\n",
       "  <thead>\n",
       "    <tr style=\"text-align: right;\">\n",
       "      <th></th>\n",
       "      <th>tweet_id</th>\n",
       "      <th>in_reply_to_status_id</th>\n",
       "      <th>in_reply_to_user_id</th>\n",
       "      <th>timestamp</th>\n",
       "      <th>source</th>\n",
       "      <th>text</th>\n",
       "      <th>expanded_urls</th>\n",
       "      <th>rating_numerator</th>\n",
       "      <th>rating_denominator</th>\n",
       "      <th>name</th>\n",
       "      <th>...</th>\n",
       "      <th>img_num</th>\n",
       "      <th>p1</th>\n",
       "      <th>p1_conf</th>\n",
       "      <th>p1_dog</th>\n",
       "      <th>p2</th>\n",
       "      <th>p2_conf</th>\n",
       "      <th>p2_dog</th>\n",
       "      <th>p3</th>\n",
       "      <th>p3_conf</th>\n",
       "      <th>p3_dog</th>\n",
       "    </tr>\n",
       "  </thead>\n",
       "  <tbody>\n",
       "    <tr>\n",
       "      <th>1597</th>\n",
       "      <td>673680198160809984</td>\n",
       "      <td>NaN</td>\n",
       "      <td>NaN</td>\n",
       "      <td>2015-12-07 01:47:30 +0000</td>\n",
       "      <td>iPhone</td>\n",
       "      <td>This is Shnuggles. I would kill for Shnuggles....</td>\n",
       "      <td>https://twitter.com/dog_rates/status/673680198...</td>\n",
       "      <td>13</td>\n",
       "      <td>10</td>\n",
       "      <td>Shnuggles</td>\n",
       "      <td>...</td>\n",
       "      <td>1</td>\n",
       "      <td>Samoyed</td>\n",
       "      <td>0.989853</td>\n",
       "      <td>True</td>\n",
       "      <td>Arctic_fox</td>\n",
       "      <td>0.003344</td>\n",
       "      <td>False</td>\n",
       "      <td>chow</td>\n",
       "      <td>0.002802</td>\n",
       "      <td>True</td>\n",
       "    </tr>\n",
       "  </tbody>\n",
       "</table>\n",
       "<p>1 rows × 24 columns</p>\n",
       "</div>"
      ],
      "text/plain": [
       "                tweet_id  in_reply_to_status_id  in_reply_to_user_id  \\\n",
       "1597  673680198160809984                    NaN                  NaN   \n",
       "\n",
       "                      timestamp  source  \\\n",
       "1597  2015-12-07 01:47:30 +0000  iPhone   \n",
       "\n",
       "                                                   text  \\\n",
       "1597  This is Shnuggles. I would kill for Shnuggles....   \n",
       "\n",
       "                                          expanded_urls  rating_numerator  \\\n",
       "1597  https://twitter.com/dog_rates/status/673680198...                13   \n",
       "\n",
       "      rating_denominator       name   ...   img_num       p1   p1_conf p1_dog  \\\n",
       "1597                  10  Shnuggles   ...         1  Samoyed  0.989853   True   \n",
       "\n",
       "              p2   p2_conf  p2_dog    p3   p3_conf  p3_dog  \n",
       "1597  Arctic_fox  0.003344   False  chow  0.002802    True  \n",
       "\n",
       "[1 rows x 24 columns]"
      ]
     },
     "execution_count": 114,
     "metadata": {},
     "output_type": "execute_result"
    }
   ],
   "source": [
    "twitter_archive_clean.sample()"
   ]
  },
  {
   "cell_type": "code",
   "execution_count": 115,
   "metadata": {},
   "outputs": [
    {
     "data": {
      "text/plain": [
       "iPhone        1955\n",
       "Web Client      28\n",
       "TweetDeck       11\n",
       "Name: source, dtype: int64"
      ]
     },
     "execution_count": 115,
     "metadata": {},
     "output_type": "execute_result"
    }
   ],
   "source": [
    "twitter_archive_clean.source.value_counts()"
   ]
  },
  {
   "cell_type": "markdown",
   "metadata": {},
   "source": [
    "质量"
   ]
  },
  {
   "cell_type": "markdown",
   "metadata": {},
   "source": [
    "错误的数据类型错误的数据类型(tweet_id，timestamp，staging)"
   ]
  },
  {
   "cell_type": "markdown",
   "metadata": {},
   "source": [
    "定义"
   ]
  },
  {
   "cell_type": "markdown",
   "metadata": {},
   "source": [
    "运用astpye将tweet_id转化为整数数据类型，将timestamp转化为datetime数据类型，将staging转化为分类数据类型"
   ]
  },
  {
   "cell_type": "markdown",
   "metadata": {},
   "source": [
    "代码"
   ]
  },
  {
   "cell_type": "code",
   "execution_count": 116,
   "metadata": {},
   "outputs": [],
   "source": [
    "# 将tweet_id转为整数类型\n",
    "twitter_archive_clean['tweet_id'] = twitter_archive_clean.tweet_id.astype(str)\n",
    "\n",
    "twitter_archive_clean['in_reply_to_status_id'] = twitter_archive_clean.in_reply_to_status_id.astype(str)\n",
    "twitter_archive_clean['in_reply_to_user_id'] = twitter_archive_clean.in_reply_to_user_id.astype(str)\n",
    "\n",
    "# 将Stage转为分类数据类型\n",
    "twitter_archive_clean['dog_stage'] = twitter_archive_clean.dog_stage.astype('category')"
   ]
  },
  {
   "cell_type": "code",
   "execution_count": 117,
   "metadata": {},
   "outputs": [
    {
     "name": "stdout",
     "output_type": "stream",
     "text": [
      "<class 'pandas.core.frame.DataFrame'>\n",
      "Int64Index: 1994 entries, 0 to 1993\n",
      "Data columns (total 24 columns):\n",
      "tweet_id                 1994 non-null object\n",
      "in_reply_to_status_id    1994 non-null object\n",
      "in_reply_to_user_id      1994 non-null object\n",
      "timestamp                1994 non-null object\n",
      "source                   1994 non-null object\n",
      "text                     1994 non-null object\n",
      "expanded_urls            1994 non-null object\n",
      "rating_numerator         1994 non-null int64\n",
      "rating_denominator       1994 non-null int64\n",
      "name                     1994 non-null object\n",
      "dog_stage                1994 non-null category\n",
      "favorite_count           1994 non-null int64\n",
      "retweet_count            1994 non-null int64\n",
      "jpg_url                  1994 non-null object\n",
      "img_num                  1994 non-null int64\n",
      "p1                       1994 non-null object\n",
      "p1_conf                  1994 non-null float64\n",
      "p1_dog                   1994 non-null bool\n",
      "p2                       1994 non-null object\n",
      "p2_conf                  1994 non-null float64\n",
      "p2_dog                   1994 non-null bool\n",
      "p3                       1994 non-null object\n",
      "p3_conf                  1994 non-null float64\n",
      "p3_dog                   1994 non-null bool\n",
      "dtypes: bool(3), category(1), float64(3), int64(5), object(12)\n",
      "memory usage: 335.3+ KB\n"
     ]
    }
   ],
   "source": [
    "twitter_archive_clean.info()"
   ]
  },
  {
   "cell_type": "code",
   "execution_count": 118,
   "metadata": {},
   "outputs": [
    {
     "data": {
      "text/html": [
       "<div>\n",
       "<style>\n",
       "    .dataframe thead tr:only-child th {\n",
       "        text-align: right;\n",
       "    }\n",
       "\n",
       "    .dataframe thead th {\n",
       "        text-align: left;\n",
       "    }\n",
       "\n",
       "    .dataframe tbody tr th {\n",
       "        vertical-align: top;\n",
       "    }\n",
       "</style>\n",
       "<table border=\"1\" class=\"dataframe\">\n",
       "  <thead>\n",
       "    <tr style=\"text-align: right;\">\n",
       "      <th></th>\n",
       "      <th>tweet_id</th>\n",
       "      <th>in_reply_to_status_id</th>\n",
       "      <th>in_reply_to_user_id</th>\n",
       "      <th>timestamp</th>\n",
       "      <th>source</th>\n",
       "      <th>text</th>\n",
       "      <th>expanded_urls</th>\n",
       "      <th>rating_numerator</th>\n",
       "      <th>rating_denominator</th>\n",
       "      <th>name</th>\n",
       "      <th>...</th>\n",
       "      <th>img_num</th>\n",
       "      <th>p1</th>\n",
       "      <th>p1_conf</th>\n",
       "      <th>p1_dog</th>\n",
       "      <th>p2</th>\n",
       "      <th>p2_conf</th>\n",
       "      <th>p2_dog</th>\n",
       "      <th>p3</th>\n",
       "      <th>p3_conf</th>\n",
       "      <th>p3_dog</th>\n",
       "    </tr>\n",
       "  </thead>\n",
       "  <tbody>\n",
       "    <tr>\n",
       "      <th>0</th>\n",
       "      <td>892420643555336193</td>\n",
       "      <td>nan</td>\n",
       "      <td>nan</td>\n",
       "      <td>2017-08-01 16:23:56 +0000</td>\n",
       "      <td>iPhone</td>\n",
       "      <td>This is Phineas. He's a mystical boy. Only eve...</td>\n",
       "      <td>https://twitter.com/dog_rates/status/892420643...</td>\n",
       "      <td>13</td>\n",
       "      <td>10</td>\n",
       "      <td>Phineas</td>\n",
       "      <td>...</td>\n",
       "      <td>1</td>\n",
       "      <td>orange</td>\n",
       "      <td>0.097049</td>\n",
       "      <td>False</td>\n",
       "      <td>bagel</td>\n",
       "      <td>0.085851</td>\n",
       "      <td>False</td>\n",
       "      <td>banana</td>\n",
       "      <td>0.07611</td>\n",
       "      <td>False</td>\n",
       "    </tr>\n",
       "  </tbody>\n",
       "</table>\n",
       "<p>1 rows × 24 columns</p>\n",
       "</div>"
      ],
      "text/plain": [
       "             tweet_id in_reply_to_status_id in_reply_to_user_id  \\\n",
       "0  892420643555336193                   nan                 nan   \n",
       "\n",
       "                   timestamp  source  \\\n",
       "0  2017-08-01 16:23:56 +0000  iPhone   \n",
       "\n",
       "                                                text  \\\n",
       "0  This is Phineas. He's a mystical boy. Only eve...   \n",
       "\n",
       "                                       expanded_urls  rating_numerator  \\\n",
       "0  https://twitter.com/dog_rates/status/892420643...                13   \n",
       "\n",
       "   rating_denominator     name   ...   img_num      p1   p1_conf p1_dog  \\\n",
       "0                  10  Phineas   ...         1  orange  0.097049  False   \n",
       "\n",
       "      p2   p2_conf  p2_dog      p3  p3_conf  p3_dog  \n",
       "0  bagel  0.085851   False  banana  0.07611   False  \n",
       "\n",
       "[1 rows x 24 columns]"
      ]
     },
     "execution_count": 118,
     "metadata": {},
     "output_type": "execute_result"
    }
   ],
   "source": [
    "twitter_archive_clean.head(1)"
   ]
  },
  {
   "cell_type": "markdown",
   "metadata": {},
   "source": [
    "数值异常(rating_numerator和rating_denominator)"
   ]
  },
  {
   "cell_type": "markdown",
   "metadata": {},
   "source": [
    "定义"
   ]
  },
  {
   "cell_type": "markdown",
   "metadata": {},
   "source": [
    "按照weratedogs的标准，运用布尔索引筛选出rating_denominator恒定为10，rating_numerator大于10且小于20的数据"
   ]
  },
  {
   "cell_type": "markdown",
   "metadata": {},
   "source": [
    "代码"
   ]
  },
  {
   "cell_type": "code",
   "execution_count": 119,
   "metadata": {},
   "outputs": [],
   "source": [
    "twitter_archive_clean = twitter_archive_clean[(twitter_archive_clean.rating_numerator >= 10)&(twitter_archive_clean.rating_numerator <= 20)&(twitter_archive_clean.rating_denominator == 10)]"
   ]
  },
  {
   "cell_type": "markdown",
   "metadata": {},
   "source": [
    "测试"
   ]
  },
  {
   "cell_type": "code",
   "execution_count": 120,
   "metadata": {},
   "outputs": [
    {
     "data": {
      "text/html": [
       "<div>\n",
       "<style>\n",
       "    .dataframe thead tr:only-child th {\n",
       "        text-align: right;\n",
       "    }\n",
       "\n",
       "    .dataframe thead th {\n",
       "        text-align: left;\n",
       "    }\n",
       "\n",
       "    .dataframe tbody tr th {\n",
       "        vertical-align: top;\n",
       "    }\n",
       "</style>\n",
       "<table border=\"1\" class=\"dataframe\">\n",
       "  <thead>\n",
       "    <tr style=\"text-align: right;\">\n",
       "      <th></th>\n",
       "      <th>rating_numerator</th>\n",
       "      <th>rating_denominator</th>\n",
       "      <th>favorite_count</th>\n",
       "      <th>retweet_count</th>\n",
       "      <th>img_num</th>\n",
       "      <th>p1_conf</th>\n",
       "      <th>p2_conf</th>\n",
       "      <th>p3_conf</th>\n",
       "    </tr>\n",
       "  </thead>\n",
       "  <tbody>\n",
       "    <tr>\n",
       "      <th>count</th>\n",
       "      <td>1561.000000</td>\n",
       "      <td>1561.0</td>\n",
       "      <td>1561.000000</td>\n",
       "      <td>1561.000000</td>\n",
       "      <td>1561.000000</td>\n",
       "      <td>1561.000000</td>\n",
       "      <td>1.561000e+03</td>\n",
       "      <td>1.561000e+03</td>\n",
       "    </tr>\n",
       "    <tr>\n",
       "      <th>mean</th>\n",
       "      <td>11.421525</td>\n",
       "      <td>10.0</td>\n",
       "      <td>10548.936579</td>\n",
       "      <td>3233.249199</td>\n",
       "      <td>1.247277</td>\n",
       "      <td>0.607500</td>\n",
       "      <td>1.350796e-01</td>\n",
       "      <td>5.966829e-02</td>\n",
       "    </tr>\n",
       "    <tr>\n",
       "      <th>std</th>\n",
       "      <td>1.118217</td>\n",
       "      <td>0.0</td>\n",
       "      <td>13362.334048</td>\n",
       "      <td>5167.713890</td>\n",
       "      <td>0.613184</td>\n",
       "      <td>0.268745</td>\n",
       "      <td>1.015676e-01</td>\n",
       "      <td>5.153875e-02</td>\n",
       "    </tr>\n",
       "    <tr>\n",
       "      <th>min</th>\n",
       "      <td>10.000000</td>\n",
       "      <td>10.0</td>\n",
       "      <td>81.000000</td>\n",
       "      <td>15.000000</td>\n",
       "      <td>1.000000</td>\n",
       "      <td>0.055379</td>\n",
       "      <td>1.011300e-08</td>\n",
       "      <td>1.740170e-10</td>\n",
       "    </tr>\n",
       "    <tr>\n",
       "      <th>25%</th>\n",
       "      <td>10.000000</td>\n",
       "      <td>10.0</td>\n",
       "      <td>2550.000000</td>\n",
       "      <td>772.000000</td>\n",
       "      <td>1.000000</td>\n",
       "      <td>0.371146</td>\n",
       "      <td>5.251140e-02</td>\n",
       "      <td>1.522800e-02</td>\n",
       "    </tr>\n",
       "    <tr>\n",
       "      <th>50%</th>\n",
       "      <td>11.000000</td>\n",
       "      <td>10.0</td>\n",
       "      <td>5729.000000</td>\n",
       "      <td>1751.000000</td>\n",
       "      <td>1.000000</td>\n",
       "      <td>0.608537</td>\n",
       "      <td>1.197450e-01</td>\n",
       "      <td>4.835900e-02</td>\n",
       "    </tr>\n",
       "    <tr>\n",
       "      <th>75%</th>\n",
       "      <td>12.000000</td>\n",
       "      <td>10.0</td>\n",
       "      <td>13786.000000</td>\n",
       "      <td>3746.000000</td>\n",
       "      <td>1.000000</td>\n",
       "      <td>0.853684</td>\n",
       "      <td>1.955580e-01</td>\n",
       "      <td>9.160200e-02</td>\n",
       "    </tr>\n",
       "    <tr>\n",
       "      <th>max</th>\n",
       "      <td>14.000000</td>\n",
       "      <td>10.0</td>\n",
       "      <td>132318.000000</td>\n",
       "      <td>79116.000000</td>\n",
       "      <td>4.000000</td>\n",
       "      <td>1.000000</td>\n",
       "      <td>4.676780e-01</td>\n",
       "      <td>2.710420e-01</td>\n",
       "    </tr>\n",
       "  </tbody>\n",
       "</table>\n",
       "</div>"
      ],
      "text/plain": [
       "       rating_numerator  rating_denominator  favorite_count  retweet_count  \\\n",
       "count       1561.000000              1561.0     1561.000000    1561.000000   \n",
       "mean          11.421525                10.0    10548.936579    3233.249199   \n",
       "std            1.118217                 0.0    13362.334048    5167.713890   \n",
       "min           10.000000                10.0       81.000000      15.000000   \n",
       "25%           10.000000                10.0     2550.000000     772.000000   \n",
       "50%           11.000000                10.0     5729.000000    1751.000000   \n",
       "75%           12.000000                10.0    13786.000000    3746.000000   \n",
       "max           14.000000                10.0   132318.000000   79116.000000   \n",
       "\n",
       "           img_num      p1_conf       p2_conf       p3_conf  \n",
       "count  1561.000000  1561.000000  1.561000e+03  1.561000e+03  \n",
       "mean      1.247277     0.607500  1.350796e-01  5.966829e-02  \n",
       "std       0.613184     0.268745  1.015676e-01  5.153875e-02  \n",
       "min       1.000000     0.055379  1.011300e-08  1.740170e-10  \n",
       "25%       1.000000     0.371146  5.251140e-02  1.522800e-02  \n",
       "50%       1.000000     0.608537  1.197450e-01  4.835900e-02  \n",
       "75%       1.000000     0.853684  1.955580e-01  9.160200e-02  \n",
       "max       4.000000     1.000000  4.676780e-01  2.710420e-01  "
      ]
     },
     "execution_count": 120,
     "metadata": {},
     "output_type": "execute_result"
    }
   ],
   "source": [
    "twitter_archive_clean.describe()"
   ]
  },
  {
   "cell_type": "markdown",
   "metadata": {},
   "source": [
    "定义 *10月12日更新"
   ]
  },
  {
   "cell_type": "markdown",
   "metadata": {},
   "source": [
    "保留p1预测结果，如果p1_dog为false，则继续查看p2,p3预测结果。如果3个预测结果都不为狗，则保留NaN值。"
   ]
  },
  {
   "cell_type": "markdown",
   "metadata": {},
   "source": [
    "代码"
   ]
  },
  {
   "cell_type": "code",
   "execution_count": 121,
   "metadata": {},
   "outputs": [
    {
     "data": {
      "text/plain": [
       "0       None\n",
       "1       None\n",
       "2       None\n",
       "3       None\n",
       "4       None\n",
       "5       None\n",
       "6       None\n",
       "7       None\n",
       "8       None\n",
       "9       None\n",
       "10      None\n",
       "11      None\n",
       "12      None\n",
       "13      None\n",
       "14      None\n",
       "15      None\n",
       "16      None\n",
       "17      None\n",
       "18      None\n",
       "19      None\n",
       "20      None\n",
       "21      None\n",
       "22      None\n",
       "23      None\n",
       "24      None\n",
       "25      None\n",
       "26      None\n",
       "27      None\n",
       "28      None\n",
       "29      None\n",
       "        ... \n",
       "1924    None\n",
       "1925    None\n",
       "1929    None\n",
       "1930    None\n",
       "1931    None\n",
       "1932    None\n",
       "1933    None\n",
       "1934    None\n",
       "1936    None\n",
       "1938    None\n",
       "1939    None\n",
       "1941    None\n",
       "1942    None\n",
       "1944    None\n",
       "1945    None\n",
       "1949    None\n",
       "1951    None\n",
       "1956    None\n",
       "1959    None\n",
       "1962    None\n",
       "1963    None\n",
       "1967    None\n",
       "1970    None\n",
       "1974    None\n",
       "1975    None\n",
       "1977    None\n",
       "1981    None\n",
       "1983    None\n",
       "1986    None\n",
       "1988    None\n",
       "Length: 1561, dtype: object"
      ]
     },
     "execution_count": 121,
     "metadata": {},
     "output_type": "execute_result"
    }
   ],
   "source": [
    "breed=[]\n",
    "conf=[]\n",
    "\n",
    "\n",
    "def prediction(dataframe):\n",
    "    if dataframe['p1_dog'] is True:\n",
    "        breed.append(dataframe['p1'])\n",
    "        conf.append(dataframe['p1_conf'])\n",
    "       \n",
    "    elif dataframe['p2_dog'] is True:\n",
    "        breed.append(dataframe['p2'])\n",
    "        conf.append(dataframe['p2_conf'])\n",
    "        \n",
    "    elif dataframe['p3_dog'] is True:\n",
    "        breed.append(dataframe['p3'])\n",
    "        conf.append(dataframe['p3_conf'])\n",
    "        \n",
    "    else:\n",
    "        breed.append(\"NaN\")\n",
    "        conf.append(\"NaN\")\n",
    "                \n",
    "\n",
    "twitter_archive_clean.apply(prediction, axis=1)"
   ]
  },
  {
   "cell_type": "code",
   "execution_count": 122,
   "metadata": {},
   "outputs": [],
   "source": [
    "# 将breed和相应的可信度补充进dataframe\n",
    "twitter_archive_clean['breed']=breed\n",
    "twitter_archive_clean['conf']=conf"
   ]
  },
  {
   "cell_type": "code",
   "execution_count": 123,
   "metadata": {},
   "outputs": [],
   "source": [
    "# 删除img_num至p3_dog列\n",
    "twitter_archive_clean.drop(['img_num','p1','p1_conf','p1_dog','p2','p2_conf','p2_dog','p3','p3_conf','p3_dog'],axis=1,inplace=True)"
   ]
  },
  {
   "cell_type": "markdown",
   "metadata": {},
   "source": [
    "测试"
   ]
  },
  {
   "cell_type": "code",
   "execution_count": 124,
   "metadata": {},
   "outputs": [
    {
     "data": {
      "text/html": [
       "<div>\n",
       "<style>\n",
       "    .dataframe thead tr:only-child th {\n",
       "        text-align: right;\n",
       "    }\n",
       "\n",
       "    .dataframe thead th {\n",
       "        text-align: left;\n",
       "    }\n",
       "\n",
       "    .dataframe tbody tr th {\n",
       "        vertical-align: top;\n",
       "    }\n",
       "</style>\n",
       "<table border=\"1\" class=\"dataframe\">\n",
       "  <thead>\n",
       "    <tr style=\"text-align: right;\">\n",
       "      <th></th>\n",
       "      <th>tweet_id</th>\n",
       "      <th>in_reply_to_status_id</th>\n",
       "      <th>in_reply_to_user_id</th>\n",
       "      <th>timestamp</th>\n",
       "      <th>source</th>\n",
       "      <th>text</th>\n",
       "      <th>expanded_urls</th>\n",
       "      <th>rating_numerator</th>\n",
       "      <th>rating_denominator</th>\n",
       "      <th>name</th>\n",
       "      <th>dog_stage</th>\n",
       "      <th>favorite_count</th>\n",
       "      <th>retweet_count</th>\n",
       "      <th>jpg_url</th>\n",
       "      <th>breed</th>\n",
       "      <th>conf</th>\n",
       "    </tr>\n",
       "  </thead>\n",
       "  <tbody>\n",
       "    <tr>\n",
       "      <th>0</th>\n",
       "      <td>892420643555336193</td>\n",
       "      <td>nan</td>\n",
       "      <td>nan</td>\n",
       "      <td>2017-08-01 16:23:56 +0000</td>\n",
       "      <td>iPhone</td>\n",
       "      <td>This is Phineas. He's a mystical boy. Only eve...</td>\n",
       "      <td>https://twitter.com/dog_rates/status/892420643...</td>\n",
       "      <td>13</td>\n",
       "      <td>10</td>\n",
       "      <td>Phineas</td>\n",
       "      <td></td>\n",
       "      <td>39492</td>\n",
       "      <td>8842</td>\n",
       "      <td>https://pbs.twimg.com/media/DGKD1-bXoAAIAUK.jpg</td>\n",
       "      <td>NaN</td>\n",
       "      <td>NaN</td>\n",
       "    </tr>\n",
       "    <tr>\n",
       "      <th>1</th>\n",
       "      <td>892177421306343426</td>\n",
       "      <td>nan</td>\n",
       "      <td>nan</td>\n",
       "      <td>2017-08-01 00:17:27 +0000</td>\n",
       "      <td>iPhone</td>\n",
       "      <td>This is Tilly. She's just checking pup on you....</td>\n",
       "      <td>https://twitter.com/dog_rates/status/892177421...</td>\n",
       "      <td>13</td>\n",
       "      <td>10</td>\n",
       "      <td>Tilly</td>\n",
       "      <td></td>\n",
       "      <td>33786</td>\n",
       "      <td>6480</td>\n",
       "      <td>https://pbs.twimg.com/media/DGGmoV4XsAAUL6n.jpg</td>\n",
       "      <td>Chihuahua</td>\n",
       "      <td>0.323581</td>\n",
       "    </tr>\n",
       "    <tr>\n",
       "      <th>2</th>\n",
       "      <td>891815181378084864</td>\n",
       "      <td>nan</td>\n",
       "      <td>nan</td>\n",
       "      <td>2017-07-31 00:18:03 +0000</td>\n",
       "      <td>iPhone</td>\n",
       "      <td>This is Archie. He is a rare Norwegian Pouncin...</td>\n",
       "      <td>https://twitter.com/dog_rates/status/891815181...</td>\n",
       "      <td>12</td>\n",
       "      <td>10</td>\n",
       "      <td>Archie</td>\n",
       "      <td></td>\n",
       "      <td>25445</td>\n",
       "      <td>4301</td>\n",
       "      <td>https://pbs.twimg.com/media/DGBdLU1WsAANxJ9.jpg</td>\n",
       "      <td>Chihuahua</td>\n",
       "      <td>0.716012</td>\n",
       "    </tr>\n",
       "    <tr>\n",
       "      <th>3</th>\n",
       "      <td>891689557279858688</td>\n",
       "      <td>nan</td>\n",
       "      <td>nan</td>\n",
       "      <td>2017-07-30 15:58:51 +0000</td>\n",
       "      <td>iPhone</td>\n",
       "      <td>This is Darla. She commenced a snooze mid meal...</td>\n",
       "      <td>https://twitter.com/dog_rates/status/891689557...</td>\n",
       "      <td>13</td>\n",
       "      <td>10</td>\n",
       "      <td>Darla</td>\n",
       "      <td></td>\n",
       "      <td>42863</td>\n",
       "      <td>8925</td>\n",
       "      <td>https://pbs.twimg.com/media/DF_q7IAWsAEuuN8.jpg</td>\n",
       "      <td>Labrador_retriever</td>\n",
       "      <td>0.168086</td>\n",
       "    </tr>\n",
       "    <tr>\n",
       "      <th>4</th>\n",
       "      <td>891327558926688256</td>\n",
       "      <td>nan</td>\n",
       "      <td>nan</td>\n",
       "      <td>2017-07-29 16:00:24 +0000</td>\n",
       "      <td>iPhone</td>\n",
       "      <td>This is Franklin. He would like you to stop ca...</td>\n",
       "      <td>https://twitter.com/dog_rates/status/891327558...</td>\n",
       "      <td>12</td>\n",
       "      <td>10</td>\n",
       "      <td>Franklin</td>\n",
       "      <td></td>\n",
       "      <td>41016</td>\n",
       "      <td>9721</td>\n",
       "      <td>https://pbs.twimg.com/media/DF6hr6BUMAAzZgT.jpg</td>\n",
       "      <td>basset</td>\n",
       "      <td>0.555712</td>\n",
       "    </tr>\n",
       "  </tbody>\n",
       "</table>\n",
       "</div>"
      ],
      "text/plain": [
       "             tweet_id in_reply_to_status_id in_reply_to_user_id  \\\n",
       "0  892420643555336193                   nan                 nan   \n",
       "1  892177421306343426                   nan                 nan   \n",
       "2  891815181378084864                   nan                 nan   \n",
       "3  891689557279858688                   nan                 nan   \n",
       "4  891327558926688256                   nan                 nan   \n",
       "\n",
       "                   timestamp  source  \\\n",
       "0  2017-08-01 16:23:56 +0000  iPhone   \n",
       "1  2017-08-01 00:17:27 +0000  iPhone   \n",
       "2  2017-07-31 00:18:03 +0000  iPhone   \n",
       "3  2017-07-30 15:58:51 +0000  iPhone   \n",
       "4  2017-07-29 16:00:24 +0000  iPhone   \n",
       "\n",
       "                                                text  \\\n",
       "0  This is Phineas. He's a mystical boy. Only eve...   \n",
       "1  This is Tilly. She's just checking pup on you....   \n",
       "2  This is Archie. He is a rare Norwegian Pouncin...   \n",
       "3  This is Darla. She commenced a snooze mid meal...   \n",
       "4  This is Franklin. He would like you to stop ca...   \n",
       "\n",
       "                                       expanded_urls  rating_numerator  \\\n",
       "0  https://twitter.com/dog_rates/status/892420643...                13   \n",
       "1  https://twitter.com/dog_rates/status/892177421...                13   \n",
       "2  https://twitter.com/dog_rates/status/891815181...                12   \n",
       "3  https://twitter.com/dog_rates/status/891689557...                13   \n",
       "4  https://twitter.com/dog_rates/status/891327558...                12   \n",
       "\n",
       "   rating_denominator      name dog_stage  favorite_count  retweet_count  \\\n",
       "0                  10   Phineas                     39492           8842   \n",
       "1                  10     Tilly                     33786           6480   \n",
       "2                  10    Archie                     25445           4301   \n",
       "3                  10     Darla                     42863           8925   \n",
       "4                  10  Franklin                     41016           9721   \n",
       "\n",
       "                                           jpg_url               breed  \\\n",
       "0  https://pbs.twimg.com/media/DGKD1-bXoAAIAUK.jpg                 NaN   \n",
       "1  https://pbs.twimg.com/media/DGGmoV4XsAAUL6n.jpg           Chihuahua   \n",
       "2  https://pbs.twimg.com/media/DGBdLU1WsAANxJ9.jpg           Chihuahua   \n",
       "3  https://pbs.twimg.com/media/DF_q7IAWsAEuuN8.jpg  Labrador_retriever   \n",
       "4  https://pbs.twimg.com/media/DF6hr6BUMAAzZgT.jpg              basset   \n",
       "\n",
       "       conf  \n",
       "0       NaN  \n",
       "1  0.323581  \n",
       "2  0.716012  \n",
       "3  0.168086  \n",
       "4  0.555712  "
      ]
     },
     "execution_count": 124,
     "metadata": {},
     "output_type": "execute_result"
    }
   ],
   "source": [
    "twitter_archive_clean.head()"
   ]
  },
  {
   "cell_type": "code",
   "execution_count": 125,
   "metadata": {},
   "outputs": [
    {
     "data": {
      "text/plain": [
       "'https://pbs.twimg.com/media/DGKD1-bXoAAIAUK.jpg'"
      ]
     },
     "execution_count": 125,
     "metadata": {},
     "output_type": "execute_result"
    }
   ],
   "source": [
    "# 发现第0行的breed和conf均为NaN，也就是预测图片中不是狗狗。查看相应的URL进行确认\n",
    "twitter_archive_clean.jpg_url[0]"
   ]
  },
  {
   "cell_type": "markdown",
   "metadata": {},
   "source": [
    "上图即为第0行数据对应的狗狗照片，可能由于甜甜圈在图片中的占比过大，导致无法识别。"
   ]
  },
  {
   "cell_type": "markdown",
   "metadata": {},
   "source": [
    "使用正则表达式，在text列中根据常见的语法重新为宠物名赋值  *10月12日更新\n",
    "\n",
    "This is (name)\n",
    "\n",
    "Meet (name)\n",
    "\n",
    "Named (name)\n",
    "\n",
    "Say hello to (name)\n",
    "\n",
    "为没有注明宠物名字赋空值\n",
    "\n",
    "为避免错取关键字a、the，只选择以大写字母开头的名字。"
   ]
  },
  {
   "cell_type": "code",
   "execution_count": 126,
   "metadata": {},
   "outputs": [],
   "source": [
    "dog_name=[]\n",
    "for text in twitter_archive_clean['text']:\n",
    "    try:\n",
    "        if 'This is' in text:\n",
    "            dog_name.append(re.search(\"This is ([A-Z]\\w+)\",text).group(1))\n",
    "        elif  'Meet' in text:\n",
    "            dog_name.append(re.search(\"Meet ([A-Z]\\w+)\",text).group(1))\n",
    "        elif 'named' in text:\n",
    "            dog_name.append(re.search(\"named ([A-Z]\\w+)\",text).group(1))\n",
    "        elif 'Say hello to' in text:\n",
    "            dog_name.append(re.search(\"Say hello to ([A-Z]\\w+)\",text).group(1))\n",
    "        else:\n",
    "            dog_name.append(np.nan)\n",
    "    except AttributeError:\n",
    "        dog_name.append(np.nan)"
   ]
  },
  {
   "cell_type": "code",
   "execution_count": 127,
   "metadata": {},
   "outputs": [],
   "source": [
    "twitter_archive_clean['dog_name']=dog_name"
   ]
  },
  {
   "cell_type": "code",
   "execution_count": 128,
   "metadata": {},
   "outputs": [
    {
     "data": {
      "text/plain": [
       "Charlie    11\n",
       "Lucy       10\n",
       "Cooper      9\n",
       "Oliver      9\n",
       "Tucker      8\n",
       "Penny       7\n",
       "Sadie       7\n",
       "Winston     7\n",
       "Daisy       6\n",
       "Bo          6\n",
       "Koda        6\n",
       "Toby        5\n",
       "Milo        5\n",
       "Lola        5\n",
       "Leo         5\n",
       "Louis       5\n",
       "Jax         5\n",
       "Stanley     5\n",
       "Bella       4\n",
       "Finn        4\n",
       "Duke        4\n",
       "Winnie      4\n",
       "Bear        4\n",
       "Cassie      4\n",
       "Derek       4\n",
       "Rusty       4\n",
       "Chester     4\n",
       "Archie      4\n",
       "Bailey      4\n",
       "Oakley      4\n",
       "           ..\n",
       "Maddie      1\n",
       "Tripp       1\n",
       "Hall        1\n",
       "Pavlov      1\n",
       "Hector      1\n",
       "Banditt     1\n",
       "Rizzy       1\n",
       "Bradley     1\n",
       "Butter      1\n",
       "Sparky      1\n",
       "Duddles     1\n",
       "Nollie      1\n",
       "Kramer      1\n",
       "Wiggles     1\n",
       "Trigger     1\n",
       "River       1\n",
       "Herald      1\n",
       "Astrid      1\n",
       "Andy        1\n",
       "Tedders     1\n",
       "Birf        1\n",
       "JD          1\n",
       "Zara        1\n",
       "Nugget      1\n",
       "Sandra      1\n",
       "Bronte      1\n",
       "Ruffles     1\n",
       "Taz         1\n",
       "Pete        1\n",
       "Koko        1\n",
       "Name: dog_name, Length: 769, dtype: int64"
      ]
     },
     "execution_count": 128,
     "metadata": {},
     "output_type": "execute_result"
    }
   ],
   "source": [
    "twitter_archive_clean['dog_name'].value_counts()"
   ]
  },
  {
   "cell_type": "code",
   "execution_count": null,
   "metadata": {},
   "outputs": [],
   "source": []
  },
  {
   "cell_type": "code",
   "execution_count": 129,
   "metadata": {},
   "outputs": [],
   "source": [
    "#检查分母"
   ]
  },
  {
   "cell_type": "code",
   "execution_count": 130,
   "metadata": {},
   "outputs": [
    {
     "data": {
      "text/plain": [
       "10     2333\n",
       "11        3\n",
       "50        3\n",
       "80        2\n",
       "20        2\n",
       "2         1\n",
       "16        1\n",
       "40        1\n",
       "70        1\n",
       "15        1\n",
       "90        1\n",
       "110       1\n",
       "120       1\n",
       "130       1\n",
       "150       1\n",
       "170       1\n",
       "7         1\n",
       "0         1\n",
       "Name: rating_denominator, dtype: int64"
      ]
     },
     "execution_count": 130,
     "metadata": {},
     "output_type": "execute_result"
    }
   ],
   "source": [
    "df.rating_denominator.value_counts()"
   ]
  },
  {
   "cell_type": "markdown",
   "metadata": {},
   "source": [
    "文件储存"
   ]
  },
  {
   "cell_type": "code",
   "execution_count": 134,
   "metadata": {},
   "outputs": [],
   "source": [
    "# twitter_archive_clean储存为twitter_archive_master.csv\n",
    "twitter_archive_clean.to_csv('twitter_archive_master.csv', index = False)"
   ]
  },
  {
   "cell_type": "code",
   "execution_count": 135,
   "metadata": {},
   "outputs": [],
   "source": [
    "twitter_archive_clean.drop(['name'],axis=1,inplace=True)"
   ]
  },
  {
   "cell_type": "code",
   "execution_count": 136,
   "metadata": {},
   "outputs": [
    {
     "data": {
      "text/html": [
       "<div>\n",
       "<style>\n",
       "    .dataframe thead tr:only-child th {\n",
       "        text-align: right;\n",
       "    }\n",
       "\n",
       "    .dataframe thead th {\n",
       "        text-align: left;\n",
       "    }\n",
       "\n",
       "    .dataframe tbody tr th {\n",
       "        vertical-align: top;\n",
       "    }\n",
       "</style>\n",
       "<table border=\"1\" class=\"dataframe\">\n",
       "  <thead>\n",
       "    <tr style=\"text-align: right;\">\n",
       "      <th></th>\n",
       "      <th>tweet_id</th>\n",
       "      <th>in_reply_to_status_id</th>\n",
       "      <th>in_reply_to_user_id</th>\n",
       "      <th>timestamp</th>\n",
       "      <th>source</th>\n",
       "      <th>text</th>\n",
       "      <th>expanded_urls</th>\n",
       "      <th>rating_numerator</th>\n",
       "      <th>rating_denominator</th>\n",
       "      <th>dog_stage</th>\n",
       "      <th>favorite_count</th>\n",
       "      <th>retweet_count</th>\n",
       "      <th>jpg_url</th>\n",
       "      <th>breed</th>\n",
       "      <th>conf</th>\n",
       "      <th>dog_name</th>\n",
       "    </tr>\n",
       "  </thead>\n",
       "  <tbody>\n",
       "    <tr>\n",
       "      <th>0</th>\n",
       "      <td>892420643555336193</td>\n",
       "      <td>nan</td>\n",
       "      <td>nan</td>\n",
       "      <td>2017-08-01 16:23:56 +0000</td>\n",
       "      <td>iPhone</td>\n",
       "      <td>This is Phineas. He's a mystical boy. Only eve...</td>\n",
       "      <td>https://twitter.com/dog_rates/status/892420643...</td>\n",
       "      <td>13</td>\n",
       "      <td>10</td>\n",
       "      <td></td>\n",
       "      <td>39492</td>\n",
       "      <td>8842</td>\n",
       "      <td>https://pbs.twimg.com/media/DGKD1-bXoAAIAUK.jpg</td>\n",
       "      <td>NaN</td>\n",
       "      <td>NaN</td>\n",
       "      <td>Phineas</td>\n",
       "    </tr>\n",
       "    <tr>\n",
       "      <th>1</th>\n",
       "      <td>892177421306343426</td>\n",
       "      <td>nan</td>\n",
       "      <td>nan</td>\n",
       "      <td>2017-08-01 00:17:27 +0000</td>\n",
       "      <td>iPhone</td>\n",
       "      <td>This is Tilly. She's just checking pup on you....</td>\n",
       "      <td>https://twitter.com/dog_rates/status/892177421...</td>\n",
       "      <td>13</td>\n",
       "      <td>10</td>\n",
       "      <td></td>\n",
       "      <td>33786</td>\n",
       "      <td>6480</td>\n",
       "      <td>https://pbs.twimg.com/media/DGGmoV4XsAAUL6n.jpg</td>\n",
       "      <td>Chihuahua</td>\n",
       "      <td>0.323581</td>\n",
       "      <td>Tilly</td>\n",
       "    </tr>\n",
       "  </tbody>\n",
       "</table>\n",
       "</div>"
      ],
      "text/plain": [
       "             tweet_id in_reply_to_status_id in_reply_to_user_id  \\\n",
       "0  892420643555336193                   nan                 nan   \n",
       "1  892177421306343426                   nan                 nan   \n",
       "\n",
       "                   timestamp  source  \\\n",
       "0  2017-08-01 16:23:56 +0000  iPhone   \n",
       "1  2017-08-01 00:17:27 +0000  iPhone   \n",
       "\n",
       "                                                text  \\\n",
       "0  This is Phineas. He's a mystical boy. Only eve...   \n",
       "1  This is Tilly. She's just checking pup on you....   \n",
       "\n",
       "                                       expanded_urls  rating_numerator  \\\n",
       "0  https://twitter.com/dog_rates/status/892420643...                13   \n",
       "1  https://twitter.com/dog_rates/status/892177421...                13   \n",
       "\n",
       "   rating_denominator dog_stage  favorite_count  retweet_count  \\\n",
       "0                  10                     39492           8842   \n",
       "1                  10                     33786           6480   \n",
       "\n",
       "                                           jpg_url      breed      conf  \\\n",
       "0  https://pbs.twimg.com/media/DGKD1-bXoAAIAUK.jpg        NaN       NaN   \n",
       "1  https://pbs.twimg.com/media/DGGmoV4XsAAUL6n.jpg  Chihuahua  0.323581   \n",
       "\n",
       "  dog_name  \n",
       "0  Phineas  \n",
       "1    Tilly  "
      ]
     },
     "execution_count": 136,
     "metadata": {},
     "output_type": "execute_result"
    }
   ],
   "source": [
    "twitter_archive_clean.head(2)"
   ]
  },
  {
   "cell_type": "markdown",
   "metadata": {},
   "source": [
    "绘图"
   ]
  },
  {
   "cell_type": "code",
   "execution_count": 137,
   "metadata": {},
   "outputs": [],
   "source": [
    "import matplotlib.pyplot as plt\n",
    "import seaborn as sns\n",
    "% matplotlib inline\n",
    "sns.set_style('whitegrid')\n",
    "sns.set_palette(sns.color_palette('hls',10))"
   ]
  },
  {
   "cell_type": "markdown",
   "metadata": {},
   "source": [
    "最受欢迎的狗狗名字 Top 10"
   ]
  },
  {
   "cell_type": "code",
   "execution_count": 138,
   "metadata": {},
   "outputs": [
    {
     "data": {
      "image/png": "[encoded data removed]",
      "text/plain": [
       "<matplotlib.figure.Figure at 0x7f9c2e7e2c88>"
      ]
     },
     "metadata": {},
     "output_type": "display_data"
    }
   ],
   "source": [
    "ax=twitter_archive_clean.dog_name.value_counts()[0:9].plot(kind='bar',figsize=(20,4))\n",
    "ax.tick_params(axis='x',labelsize=15)"
   ]
  },
  {
   "cell_type": "markdown",
   "metadata": {},
   "source": [
    "博主发布tweeter最常用的source"
   ]
  },
  {
   "cell_type": "code",
   "execution_count": 139,
   "metadata": {},
   "outputs": [
    {
     "data": {
      "text/plain": [
       "([<matplotlib.patches.Wedge at 0x7f9c2e27b0b8>,\n",
       "  <matplotlib.patches.Wedge at 0x7f9c2e27b588>,\n",
       "  <matplotlib.patches.Wedge at 0x7f9c2e27ba58>],\n",
       " [Text(-1.09849,0.0575327,'iPhone'),\n",
       "  Text(1.09727,-0.0774191,'Web Client'),\n",
       "  Text(1.09982,-0.0199231,'TweetDeck')])"
      ]
     },
     "execution_count": 139,
     "metadata": {},
     "output_type": "execute_result"
    },
    {
     "data": {
      "image/png": "[encoded data removed]",
      "text/plain": [
       "<matplotlib.figure.Figure at 0x7f9c2e308630>"
      ]
     },
     "metadata": {},
     "output_type": "display_data"
    }
   ],
   "source": [
    "fig=twitter_archive_clean.source.value_counts()\n",
    "plt.pie(fig, labels=fig.index)"
   ]
  },
  {
   "cell_type": "markdown",
   "metadata": {},
   "source": [
    "最多点赞"
   ]
  },
  {
   "cell_type": "code",
   "execution_count": 140,
   "metadata": {},
   "outputs": [
    {
     "data": {
      "text/html": [
       "<div>\n",
       "<style>\n",
       "    .dataframe thead tr:only-child th {\n",
       "        text-align: right;\n",
       "    }\n",
       "\n",
       "    .dataframe thead th {\n",
       "        text-align: left;\n",
       "    }\n",
       "\n",
       "    .dataframe tbody tr th {\n",
       "        vertical-align: top;\n",
       "    }\n",
       "</style>\n",
       "<table border=\"1\" class=\"dataframe\">\n",
       "  <thead>\n",
       "    <tr style=\"text-align: right;\">\n",
       "      <th></th>\n",
       "      <th>tweet_id</th>\n",
       "      <th>in_reply_to_status_id</th>\n",
       "      <th>in_reply_to_user_id</th>\n",
       "      <th>timestamp</th>\n",
       "      <th>source</th>\n",
       "      <th>text</th>\n",
       "      <th>expanded_urls</th>\n",
       "      <th>rating_numerator</th>\n",
       "      <th>rating_denominator</th>\n",
       "      <th>dog_stage</th>\n",
       "      <th>favorite_count</th>\n",
       "      <th>retweet_count</th>\n",
       "      <th>jpg_url</th>\n",
       "      <th>breed</th>\n",
       "      <th>conf</th>\n",
       "      <th>dog_name</th>\n",
       "    </tr>\n",
       "  </thead>\n",
       "  <tbody>\n",
       "    <tr>\n",
       "      <th>309</th>\n",
       "      <td>822872901745569793</td>\n",
       "      <td>nan</td>\n",
       "      <td>nan</td>\n",
       "      <td>2017-01-21 18:26:02 +0000</td>\n",
       "      <td>iPhone</td>\n",
       "      <td>Here's a super supportive puppo participating ...</td>\n",
       "      <td>https://twitter.com/dog_rates/status/822872901...</td>\n",
       "      <td>13</td>\n",
       "      <td>10</td>\n",
       "      <td>puppo</td>\n",
       "      <td>132318</td>\n",
       "      <td>47958</td>\n",
       "      <td>https://pbs.twimg.com/media/C2tugXLXgAArJO4.jpg</td>\n",
       "      <td>Lakeland_terrier</td>\n",
       "      <td>0.196015</td>\n",
       "      <td>NaN</td>\n",
       "    </tr>\n",
       "  </tbody>\n",
       "</table>\n",
       "</div>"
      ],
      "text/plain": [
       "               tweet_id in_reply_to_status_id in_reply_to_user_id  \\\n",
       "309  822872901745569793                   nan                 nan   \n",
       "\n",
       "                     timestamp  source  \\\n",
       "309  2017-01-21 18:26:02 +0000  iPhone   \n",
       "\n",
       "                                                  text  \\\n",
       "309  Here's a super supportive puppo participating ...   \n",
       "\n",
       "                                         expanded_urls  rating_numerator  \\\n",
       "309  https://twitter.com/dog_rates/status/822872901...                13   \n",
       "\n",
       "     rating_denominator dog_stage  favorite_count  retweet_count  \\\n",
       "309                  10     puppo          132318          47958   \n",
       "\n",
       "                                             jpg_url             breed  \\\n",
       "309  https://pbs.twimg.com/media/C2tugXLXgAArJO4.jpg  Lakeland_terrier   \n",
       "\n",
       "         conf dog_name  \n",
       "309  0.196015      NaN  "
      ]
     },
     "execution_count": 140,
     "metadata": {},
     "output_type": "execute_result"
    }
   ],
   "source": [
    "twitter_archive_clean[twitter_archive_clean.favorite_count==twitter_archive_clean.favorite_count.max()]"
   ]
  },
  {
   "cell_type": "code",
   "execution_count": 141,
   "metadata": {},
   "outputs": [
    {
     "data": {
      "text/plain": [
       "309    https://pbs.twimg.com/media/C2tugXLXgAArJO4.jpg\n",
       "Name: jpg_url, dtype: object"
      ]
     },
     "execution_count": 141,
     "metadata": {},
     "output_type": "execute_result"
    }
   ],
   "source": [
    "twitter_archive_clean[twitter_archive_clean.favorite_count==132318].jpg_url"
   ]
  },
  {
   "cell_type": "code",
   "execution_count": 142,
   "metadata": {},
   "outputs": [
    {
     "data": {
      "text/plain": [
       "\"Here's a super supportive puppo participating in the Toronto  #WomensMarch today. 13/10 https://t.co/nTz3FtorBc\""
      ]
     },
     "execution_count": 142,
     "metadata": {},
     "output_type": "execute_result"
    }
   ],
   "source": [
    "twitter_archive_clean.text[309]"
   ]
  },
  {
   "cell_type": "markdown",
   "metadata": {},
   "source": [
    "对比点赞数和转发数"
   ]
  },
  {
   "cell_type": "code",
   "execution_count": 143,
   "metadata": {},
   "outputs": [
    {
     "data": {
      "text/plain": [
       "[(0, 150000)]"
      ]
     },
     "execution_count": 143,
     "metadata": {},
     "output_type": "execute_result"
    },
    {
     "data": {
      "image/png": "[encoded data removed]",
      "text/plain": [
       "<matplotlib.figure.Figure at 0x7f9c2e292ba8>"
      ]
     },
     "metadata": {},
     "output_type": "display_data"
    }
   ],
   "source": [
    "fig =plt.figure(figsize=(12,5))\n",
    "ax1=fig.add_subplot(211)\n",
    "sns.boxplot(x=twitter_archive_clean.favorite_count,data=twitter_archive_clean,width=0.5).set(xlim=(0,150000))\n",
    "ax2=fig.add_subplot(212)\n",
    "sns.boxplot(x=twitter_archive_clean.retweet_count,data=twitter_archive_clean,width=0.5).set(xlim=(0,150000))"
   ]
  },
  {
   "cell_type": "markdown",
   "metadata": {},
   "source": [
    "推文中出现频率最高的品种"
   ]
  },
  {
   "cell_type": "code",
   "execution_count": 144,
   "metadata": {},
   "outputs": [
    {
     "data": {
      "text/plain": [
       "(array([0, 1, 2, 3, 4, 5, 6, 7, 8]), <a list of 9 Text xticklabel objects>)"
      ]
     },
     "execution_count": 144,
     "metadata": {},
     "output_type": "execute_result"
    },
    {
     "data": {
      "image/png": "[encoded data removed]",
      "text/plain": [
       "<matplotlib.figure.Figure at 0x7f9c2e2c1dd8>"
      ]
     },
     "metadata": {},
     "output_type": "display_data"
    }
   ],
   "source": [
    "ax=twitter_archive_clean.breed.value_counts()[1:10]\n",
    "fig=sns.barplot(x=ax.index,y=ax)\n",
    "fig.set_title(\"Most common breeds\")\n",
    "plt.xticks(rotation=90)"
   ]
  },
  {
   "cell_type": "code",
   "execution_count": null,
   "metadata": {},
   "outputs": [],
   "source": []
  }
 ],
 "metadata": {
  "kernelspec": {
   "display_name": "Python 3",
   "language": "python",
   "name": "python3"
  },
  "language_info": {
   "codemirror_mode": {
    "name": "ipython",
    "version": 3
   },
   "file_extension": ".py",
   "mimetype": "text/x-python",
   "name": "python",
   "nbconvert_exporter": "python",
   "pygments_lexer": "ipython3",
   "version": "3.6.3"
  }
 },
 "nbformat": 4,
 "nbformat_minor": 2
}
